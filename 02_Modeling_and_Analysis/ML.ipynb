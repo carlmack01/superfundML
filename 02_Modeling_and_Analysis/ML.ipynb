{
 "cells": [
  {
   "cell_type": "code",
   "execution_count": 41,
   "metadata": {},
   "outputs": [],
   "source": [
    "import pandas as pd"
   ]
  },
  {
   "cell_type": "code",
   "execution_count": 42,
   "metadata": {},
   "outputs": [
    {
     "data": {
      "text/html": [
       "<div>\n",
       "<style scoped>\n",
       "    .dataframe tbody tr th:only-of-type {\n",
       "        vertical-align: middle;\n",
       "    }\n",
       "\n",
       "    .dataframe tbody tr th {\n",
       "        vertical-align: top;\n",
       "    }\n",
       "\n",
       "    .dataframe thead th {\n",
       "        text-align: right;\n",
       "    }\n",
       "</style>\n",
       "<table border=\"1\" class=\"dataframe\">\n",
       "  <thead>\n",
       "    <tr style=\"text-align: right;\">\n",
       "      <th></th>\n",
       "      <th>fips_block_group</th>\n",
       "      <th>state_name</th>\n",
       "      <th>county_name</th>\n",
       "      <th>tract</th>\n",
       "      <th>block_group</th>\n",
       "      <th>tot_population_cen_2010</th>\n",
       "      <th>hispanic_cen_2010</th>\n",
       "      <th>nh_blk_alone_cen_2010</th>\n",
       "      <th>nh_aian_alone_cen_2010</th>\n",
       "      <th>nh_asian_alone_cen_2010</th>\n",
       "      <th>...</th>\n",
       "      <th>pct_renter_occp_hu_cen_2010</th>\n",
       "      <th>pct_owner_occp_hu_cen_2010</th>\n",
       "      <th>pct_no_plumb_acs_09_13</th>\n",
       "      <th>has_superfund</th>\n",
       "      <th>address</th>\n",
       "      <th>city</th>\n",
       "      <th>latitude</th>\n",
       "      <th>longitude</th>\n",
       "      <th>site_score</th>\n",
       "      <th>site_text</th>\n",
       "    </tr>\n",
       "  </thead>\n",
       "  <tbody>\n",
       "    <tr>\n",
       "      <th>0</th>\n",
       "      <td>10010201001</td>\n",
       "      <td>Alabama</td>\n",
       "      <td>Autauga County</td>\n",
       "      <td>20100.0</td>\n",
       "      <td>1.0</td>\n",
       "      <td>698.0</td>\n",
       "      <td>18.0</td>\n",
       "      <td>78.0</td>\n",
       "      <td>5.0</td>\n",
       "      <td>3.0</td>\n",
       "      <td>...</td>\n",
       "      <td>31.68</td>\n",
       "      <td>68.32</td>\n",
       "      <td>6.80</td>\n",
       "      <td>0.0</td>\n",
       "      <td>0</td>\n",
       "      <td>0</td>\n",
       "      <td>0.0</td>\n",
       "      <td>0.0</td>\n",
       "      <td>0.0</td>\n",
       "      <td>0</td>\n",
       "    </tr>\n",
       "    <tr>\n",
       "      <th>1</th>\n",
       "      <td>10010201002</td>\n",
       "      <td>Alabama</td>\n",
       "      <td>Autauga County</td>\n",
       "      <td>20100.0</td>\n",
       "      <td>2.0</td>\n",
       "      <td>1214.0</td>\n",
       "      <td>26.0</td>\n",
       "      <td>139.0</td>\n",
       "      <td>8.0</td>\n",
       "      <td>11.0</td>\n",
       "      <td>...</td>\n",
       "      <td>17.17</td>\n",
       "      <td>82.83</td>\n",
       "      <td>12.44</td>\n",
       "      <td>0.0</td>\n",
       "      <td>0</td>\n",
       "      <td>0</td>\n",
       "      <td>0.0</td>\n",
       "      <td>0.0</td>\n",
       "      <td>0.0</td>\n",
       "      <td>0</td>\n",
       "    </tr>\n",
       "    <tr>\n",
       "      <th>2</th>\n",
       "      <td>10010202001</td>\n",
       "      <td>Alabama</td>\n",
       "      <td>Autauga County</td>\n",
       "      <td>20200.0</td>\n",
       "      <td>1.0</td>\n",
       "      <td>1003.0</td>\n",
       "      <td>31.0</td>\n",
       "      <td>625.0</td>\n",
       "      <td>4.0</td>\n",
       "      <td>4.0</td>\n",
       "      <td>...</td>\n",
       "      <td>35.48</td>\n",
       "      <td>64.52</td>\n",
       "      <td>4.57</td>\n",
       "      <td>0.0</td>\n",
       "      <td>0</td>\n",
       "      <td>0</td>\n",
       "      <td>0.0</td>\n",
       "      <td>0.0</td>\n",
       "      <td>0.0</td>\n",
       "      <td>0</td>\n",
       "    </tr>\n",
       "    <tr>\n",
       "      <th>3</th>\n",
       "      <td>10010202002</td>\n",
       "      <td>Alabama</td>\n",
       "      <td>Autauga County</td>\n",
       "      <td>20200.0</td>\n",
       "      <td>2.0</td>\n",
       "      <td>1167.0</td>\n",
       "      <td>44.0</td>\n",
       "      <td>589.0</td>\n",
       "      <td>1.0</td>\n",
       "      <td>1.0</td>\n",
       "      <td>...</td>\n",
       "      <td>38.06</td>\n",
       "      <td>61.94</td>\n",
       "      <td>6.64</td>\n",
       "      <td>0.0</td>\n",
       "      <td>0</td>\n",
       "      <td>0</td>\n",
       "      <td>0.0</td>\n",
       "      <td>0.0</td>\n",
       "      <td>0.0</td>\n",
       "      <td>0</td>\n",
       "    </tr>\n",
       "    <tr>\n",
       "      <th>4</th>\n",
       "      <td>10010203001</td>\n",
       "      <td>Alabama</td>\n",
       "      <td>Autauga County</td>\n",
       "      <td>20300.0</td>\n",
       "      <td>1.0</td>\n",
       "      <td>2549.0</td>\n",
       "      <td>69.0</td>\n",
       "      <td>477.0</td>\n",
       "      <td>7.0</td>\n",
       "      <td>9.0</td>\n",
       "      <td>...</td>\n",
       "      <td>16.94</td>\n",
       "      <td>83.06</td>\n",
       "      <td>2.10</td>\n",
       "      <td>0.0</td>\n",
       "      <td>0</td>\n",
       "      <td>0</td>\n",
       "      <td>0.0</td>\n",
       "      <td>0.0</td>\n",
       "      <td>0.0</td>\n",
       "      <td>0</td>\n",
       "    </tr>\n",
       "  </tbody>\n",
       "</table>\n",
       "<p>5 rows × 40 columns</p>\n",
       "</div>"
      ],
      "text/plain": [
       "   fips_block_group state_name     county_name    tract  block_group  \\\n",
       "0       10010201001    Alabama  Autauga County  20100.0          1.0   \n",
       "1       10010201002    Alabama  Autauga County  20100.0          2.0   \n",
       "2       10010202001    Alabama  Autauga County  20200.0          1.0   \n",
       "3       10010202002    Alabama  Autauga County  20200.0          2.0   \n",
       "4       10010203001    Alabama  Autauga County  20300.0          1.0   \n",
       "\n",
       "   tot_population_cen_2010  hispanic_cen_2010  nh_blk_alone_cen_2010  \\\n",
       "0                    698.0               18.0                   78.0   \n",
       "1                   1214.0               26.0                  139.0   \n",
       "2                   1003.0               31.0                  625.0   \n",
       "3                   1167.0               44.0                  589.0   \n",
       "4                   2549.0               69.0                  477.0   \n",
       "\n",
       "   nh_aian_alone_cen_2010  nh_asian_alone_cen_2010  ...  \\\n",
       "0                     5.0                      3.0  ...   \n",
       "1                     8.0                     11.0  ...   \n",
       "2                     4.0                      4.0  ...   \n",
       "3                     1.0                      1.0  ...   \n",
       "4                     7.0                      9.0  ...   \n",
       "\n",
       "   pct_renter_occp_hu_cen_2010  pct_owner_occp_hu_cen_2010  \\\n",
       "0                        31.68                       68.32   \n",
       "1                        17.17                       82.83   \n",
       "2                        35.48                       64.52   \n",
       "3                        38.06                       61.94   \n",
       "4                        16.94                       83.06   \n",
       "\n",
       "   pct_no_plumb_acs_09_13  has_superfund  address  city  latitude  longitude  \\\n",
       "0                    6.80            0.0        0     0       0.0        0.0   \n",
       "1                   12.44            0.0        0     0       0.0        0.0   \n",
       "2                    4.57            0.0        0     0       0.0        0.0   \n",
       "3                    6.64            0.0        0     0       0.0        0.0   \n",
       "4                    2.10            0.0        0     0       0.0        0.0   \n",
       "\n",
       "   site_score  site_text  \n",
       "0         0.0          0  \n",
       "1         0.0          0  \n",
       "2         0.0          0  \n",
       "3         0.0          0  \n",
       "4         0.0          0  \n",
       "\n",
       "[5 rows x 40 columns]"
      ]
     },
     "execution_count": 42,
     "metadata": {},
     "output_type": "execute_result"
    }
   ],
   "source": [
    "df = pd.read_csv(\"cleaned_merged_data.csv\")\n",
    "# Drop the null columns where all values are null\n",
    "df = df.dropna(axis='columns', how='all')\n",
    "# Drop the null rows\n",
    "df = df.dropna()\n",
    "df.head()"
   ]
  },
  {
   "cell_type": "code",
   "execution_count": 43,
   "metadata": {},
   "outputs": [
    {
     "data": {
      "text/html": [
       "<div>\n",
       "<style scoped>\n",
       "    .dataframe tbody tr th:only-of-type {\n",
       "        vertical-align: middle;\n",
       "    }\n",
       "\n",
       "    .dataframe tbody tr th {\n",
       "        vertical-align: top;\n",
       "    }\n",
       "\n",
       "    .dataframe thead th {\n",
       "        text-align: right;\n",
       "    }\n",
       "</style>\n",
       "<table border=\"1\" class=\"dataframe\">\n",
       "  <thead>\n",
       "    <tr style=\"text-align: right;\">\n",
       "      <th></th>\n",
       "      <th>fips_block_group</th>\n",
       "      <th>state_name</th>\n",
       "      <th>county_name</th>\n",
       "      <th>tract</th>\n",
       "      <th>block_group</th>\n",
       "      <th>tot_population_cen_2010</th>\n",
       "      <th>hispanic_cen_2010</th>\n",
       "      <th>nh_blk_alone_cen_2010</th>\n",
       "      <th>nh_aian_alone_cen_2010</th>\n",
       "      <th>nh_asian_alone_cen_2010</th>\n",
       "      <th>...</th>\n",
       "      <th>pct_vacant_units_cen_2010</th>\n",
       "      <th>pct_renter_occp_hu_cen_2010</th>\n",
       "      <th>pct_owner_occp_hu_cen_2010</th>\n",
       "      <th>pct_no_plumb_acs_09_13</th>\n",
       "      <th>address</th>\n",
       "      <th>city</th>\n",
       "      <th>latitude</th>\n",
       "      <th>longitude</th>\n",
       "      <th>site_score</th>\n",
       "      <th>site_text</th>\n",
       "    </tr>\n",
       "  </thead>\n",
       "  <tbody>\n",
       "    <tr>\n",
       "      <th>0</th>\n",
       "      <td>10010201001</td>\n",
       "      <td>Alabama</td>\n",
       "      <td>Autauga County</td>\n",
       "      <td>20100.0</td>\n",
       "      <td>1.0</td>\n",
       "      <td>698.0</td>\n",
       "      <td>18.0</td>\n",
       "      <td>78.0</td>\n",
       "      <td>5.0</td>\n",
       "      <td>3.0</td>\n",
       "      <td>...</td>\n",
       "      <td>7.42</td>\n",
       "      <td>31.68</td>\n",
       "      <td>68.32</td>\n",
       "      <td>6.80</td>\n",
       "      <td>0</td>\n",
       "      <td>0</td>\n",
       "      <td>0.0</td>\n",
       "      <td>0.0</td>\n",
       "      <td>0.0</td>\n",
       "      <td>0</td>\n",
       "    </tr>\n",
       "    <tr>\n",
       "      <th>1</th>\n",
       "      <td>10010201002</td>\n",
       "      <td>Alabama</td>\n",
       "      <td>Autauga County</td>\n",
       "      <td>20100.0</td>\n",
       "      <td>2.0</td>\n",
       "      <td>1214.0</td>\n",
       "      <td>26.0</td>\n",
       "      <td>139.0</td>\n",
       "      <td>8.0</td>\n",
       "      <td>11.0</td>\n",
       "      <td>...</td>\n",
       "      <td>8.10</td>\n",
       "      <td>17.17</td>\n",
       "      <td>82.83</td>\n",
       "      <td>12.44</td>\n",
       "      <td>0</td>\n",
       "      <td>0</td>\n",
       "      <td>0.0</td>\n",
       "      <td>0.0</td>\n",
       "      <td>0.0</td>\n",
       "      <td>0</td>\n",
       "    </tr>\n",
       "    <tr>\n",
       "      <th>2</th>\n",
       "      <td>10010202001</td>\n",
       "      <td>Alabama</td>\n",
       "      <td>Autauga County</td>\n",
       "      <td>20200.0</td>\n",
       "      <td>1.0</td>\n",
       "      <td>1003.0</td>\n",
       "      <td>31.0</td>\n",
       "      <td>625.0</td>\n",
       "      <td>4.0</td>\n",
       "      <td>4.0</td>\n",
       "      <td>...</td>\n",
       "      <td>9.07</td>\n",
       "      <td>35.48</td>\n",
       "      <td>64.52</td>\n",
       "      <td>4.57</td>\n",
       "      <td>0</td>\n",
       "      <td>0</td>\n",
       "      <td>0.0</td>\n",
       "      <td>0.0</td>\n",
       "      <td>0.0</td>\n",
       "      <td>0</td>\n",
       "    </tr>\n",
       "    <tr>\n",
       "      <th>3</th>\n",
       "      <td>10010202002</td>\n",
       "      <td>Alabama</td>\n",
       "      <td>Autauga County</td>\n",
       "      <td>20200.0</td>\n",
       "      <td>2.0</td>\n",
       "      <td>1167.0</td>\n",
       "      <td>44.0</td>\n",
       "      <td>589.0</td>\n",
       "      <td>1.0</td>\n",
       "      <td>1.0</td>\n",
       "      <td>...</td>\n",
       "      <td>10.07</td>\n",
       "      <td>38.06</td>\n",
       "      <td>61.94</td>\n",
       "      <td>6.64</td>\n",
       "      <td>0</td>\n",
       "      <td>0</td>\n",
       "      <td>0.0</td>\n",
       "      <td>0.0</td>\n",
       "      <td>0.0</td>\n",
       "      <td>0</td>\n",
       "    </tr>\n",
       "    <tr>\n",
       "      <th>4</th>\n",
       "      <td>10010203001</td>\n",
       "      <td>Alabama</td>\n",
       "      <td>Autauga County</td>\n",
       "      <td>20300.0</td>\n",
       "      <td>1.0</td>\n",
       "      <td>2549.0</td>\n",
       "      <td>69.0</td>\n",
       "      <td>477.0</td>\n",
       "      <td>7.0</td>\n",
       "      <td>9.0</td>\n",
       "      <td>...</td>\n",
       "      <td>4.98</td>\n",
       "      <td>16.94</td>\n",
       "      <td>83.06</td>\n",
       "      <td>2.10</td>\n",
       "      <td>0</td>\n",
       "      <td>0</td>\n",
       "      <td>0.0</td>\n",
       "      <td>0.0</td>\n",
       "      <td>0.0</td>\n",
       "      <td>0</td>\n",
       "    </tr>\n",
       "  </tbody>\n",
       "</table>\n",
       "<p>5 rows × 39 columns</p>\n",
       "</div>"
      ],
      "text/plain": [
       "   fips_block_group state_name     county_name    tract  block_group  \\\n",
       "0       10010201001    Alabama  Autauga County  20100.0          1.0   \n",
       "1       10010201002    Alabama  Autauga County  20100.0          2.0   \n",
       "2       10010202001    Alabama  Autauga County  20200.0          1.0   \n",
       "3       10010202002    Alabama  Autauga County  20200.0          2.0   \n",
       "4       10010203001    Alabama  Autauga County  20300.0          1.0   \n",
       "\n",
       "   tot_population_cen_2010  hispanic_cen_2010  nh_blk_alone_cen_2010  \\\n",
       "0                    698.0               18.0                   78.0   \n",
       "1                   1214.0               26.0                  139.0   \n",
       "2                   1003.0               31.0                  625.0   \n",
       "3                   1167.0               44.0                  589.0   \n",
       "4                   2549.0               69.0                  477.0   \n",
       "\n",
       "   nh_aian_alone_cen_2010  nh_asian_alone_cen_2010  ...  \\\n",
       "0                     5.0                      3.0  ...   \n",
       "1                     8.0                     11.0  ...   \n",
       "2                     4.0                      4.0  ...   \n",
       "3                     1.0                      1.0  ...   \n",
       "4                     7.0                      9.0  ...   \n",
       "\n",
       "   pct_vacant_units_cen_2010  pct_renter_occp_hu_cen_2010  \\\n",
       "0                       7.42                        31.68   \n",
       "1                       8.10                        17.17   \n",
       "2                       9.07                        35.48   \n",
       "3                      10.07                        38.06   \n",
       "4                       4.98                        16.94   \n",
       "\n",
       "   pct_owner_occp_hu_cen_2010  pct_no_plumb_acs_09_13  address  city  \\\n",
       "0                       68.32                    6.80        0     0   \n",
       "1                       82.83                   12.44        0     0   \n",
       "2                       64.52                    4.57        0     0   \n",
       "3                       61.94                    6.64        0     0   \n",
       "4                       83.06                    2.10        0     0   \n",
       "\n",
       "   latitude  longitude  site_score  site_text  \n",
       "0       0.0        0.0         0.0          0  \n",
       "1       0.0        0.0         0.0          0  \n",
       "2       0.0        0.0         0.0          0  \n",
       "3       0.0        0.0         0.0          0  \n",
       "4       0.0        0.0         0.0          0  \n",
       "\n",
       "[5 rows x 39 columns]"
      ]
     },
     "execution_count": 43,
     "metadata": {},
     "output_type": "execute_result"
    }
   ],
   "source": [
    "selected_features = df.loc[:, df.columns != 'has_superfund']\n",
    "selected_features.head()"
   ]
  },
  {
   "cell_type": "code",
   "execution_count": 44,
   "metadata": {},
   "outputs": [],
   "source": [
    "selected_features = selected_features.loc[:, selected_features.columns != 'latitude'] "
   ]
  },
  {
   "cell_type": "code",
   "execution_count": 45,
   "metadata": {},
   "outputs": [],
   "source": [
    "selected_features = selected_features.loc[:, selected_features.columns != 'longitude'] "
   ]
  },
  {
   "cell_type": "code",
   "execution_count": 46,
   "metadata": {},
   "outputs": [],
   "source": [
    "selected_features = selected_features.loc[:, selected_features.columns != 'fips_full'] "
   ]
  },
  {
   "cell_type": "code",
   "execution_count": 47,
   "metadata": {},
   "outputs": [],
   "source": [
    "selected_features = selected_features.loc[:, selected_features.columns != 'site_Score'] "
   ]
  },
  {
   "cell_type": "code",
   "execution_count": 48,
   "metadata": {},
   "outputs": [],
   "source": [
    "selected_features = selected_features.loc[:, selected_features.columns != 'fips_block_group']"
   ]
  },
  {
   "cell_type": "code",
   "execution_count": 49,
   "metadata": {},
   "outputs": [
    {
     "name": "stdout",
     "output_type": "stream",
     "text": [
      "Couldn't covert state_name to float\n",
      "Couldn't covert county_name to float\n",
      "Couldn't covert address to float\n",
      "Couldn't covert city to float\n",
      "Couldn't covert site_text to float\n"
     ]
    }
   ],
   "source": [
    "cols_to_remove = []\n",
    "\n",
    "for col in selected_features.columns:\n",
    "    try:\n",
    "        _ = selected_features[col].astype(float)\n",
    "    except ValueError:\n",
    "        print('Couldn\\'t covert %s to float' % col)\n",
    "        cols_to_remove.append(col)\n",
    "        pass\n",
    "\n",
    "# keep only the columns in df that do not contain string\n",
    "selected_features = selected_features[[col for col in selected_features.columns if col not in cols_to_remove]]"
   ]
  },
  {
   "cell_type": "code",
   "execution_count": 50,
   "metadata": {},
   "outputs": [],
   "source": [
    "X = selected_features\n",
    "y = df[['has_superfund']]"
   ]
  },
  {
   "cell_type": "code",
   "execution_count": 51,
   "metadata": {},
   "outputs": [],
   "source": [
    "from sklearn.model_selection import train_test_split\n",
    "\n",
    "X_train, X_test, y_train, y_test = train_test_split(X, y, random_state=1)"
   ]
  },
  {
   "cell_type": "code",
   "execution_count": 62,
   "metadata": {},
   "outputs": [
    {
     "name": "stderr",
     "output_type": "stream",
     "text": [
      "/Users/carlhmackensen/opt/anaconda3/envs/PythonData/lib/python3.6/site-packages/sklearn/utils/validation.py:760: DataConversionWarning: A column-vector y was passed when a 1d array was expected. Please change the shape of y to (n_samples, ), for example using ravel().\n",
      "  y = column_or_1d(y, warn=True)\n"
     ]
    },
    {
     "data": {
      "text/plain": [
       "LogisticRegression(C=1.0, class_weight=None, dual=False, fit_intercept=True,\n",
       "                   intercept_scaling=1, l1_ratio=None, max_iter=100,\n",
       "                   multi_class='auto', n_jobs=None, penalty='l2',\n",
       "                   random_state=None, solver='lbfgs', tol=0.0001, verbose=0,\n",
       "                   warm_start=False)"
      ]
     },
     "execution_count": 62,
     "metadata": {},
     "output_type": "execute_result"
    }
   ],
   "source": [
    "from sklearn.linear_model import LogisticRegression\n",
    "import matplotlib.pyplot as plt\n",
    "import numpy as np\n",
    "model = LogisticRegression()\n",
    "model.fit(X_train, y_train)"
   ]
  },
  {
   "cell_type": "code",
   "execution_count": 63,
   "metadata": {},
   "outputs": [
    {
     "data": {
      "text/html": [
       "<div>\n",
       "<style scoped>\n",
       "    .dataframe tbody tr th:only-of-type {\n",
       "        vertical-align: middle;\n",
       "    }\n",
       "\n",
       "    .dataframe tbody tr th {\n",
       "        vertical-align: top;\n",
       "    }\n",
       "\n",
       "    .dataframe thead th {\n",
       "        text-align: right;\n",
       "    }\n",
       "</style>\n",
       "<table border=\"1\" class=\"dataframe\">\n",
       "  <thead>\n",
       "    <tr style=\"text-align: right;\">\n",
       "      <th></th>\n",
       "      <th>feature_name</th>\n",
       "      <th>correl</th>\n",
       "    </tr>\n",
       "  </thead>\n",
       "  <tbody>\n",
       "    <tr>\n",
       "      <th>30</th>\n",
       "      <td>site_score</td>\n",
       "      <td>4.715409e-05</td>\n",
       "    </tr>\n",
       "    <tr>\n",
       "      <th>12</th>\n",
       "      <td>aggregate_hh_inc_acs_09_13</td>\n",
       "      <td>4.285062e-08</td>\n",
       "    </tr>\n",
       "    <tr>\n",
       "      <th>22</th>\n",
       "      <td>pct_nh_nhopi_alone_cen_2010</td>\n",
       "      <td>-2.700102e-07</td>\n",
       "    </tr>\n",
       "    <tr>\n",
       "      <th>23</th>\n",
       "      <td>pct_nh_sor_alone_cen_2010</td>\n",
       "      <td>-3.259399e-07</td>\n",
       "    </tr>\n",
       "    <tr>\n",
       "      <th>20</th>\n",
       "      <td>pct_nh_aian_alone_cen_2010</td>\n",
       "      <td>-8.283358e-07</td>\n",
       "    </tr>\n",
       "    <tr>\n",
       "      <th>0</th>\n",
       "      <td>tract</td>\n",
       "      <td>-1.667851e-06</td>\n",
       "    </tr>\n",
       "    <tr>\n",
       "      <th>7</th>\n",
       "      <td>nh_nhopi_alone_cen_2010</td>\n",
       "      <td>-2.015160e-06</td>\n",
       "    </tr>\n",
       "    <tr>\n",
       "      <th>9</th>\n",
       "      <td>college_acs_09_13</td>\n",
       "      <td>-2.263011e-06</td>\n",
       "    </tr>\n",
       "    <tr>\n",
       "      <th>17</th>\n",
       "      <td>med_house_value_bg_acs_09_13</td>\n",
       "      <td>-2.762896e-06</td>\n",
       "    </tr>\n",
       "    <tr>\n",
       "      <th>21</th>\n",
       "      <td>pct_nh_asian_alone_cen_2010</td>\n",
       "      <td>-3.704114e-06</td>\n",
       "    </tr>\n",
       "    <tr>\n",
       "      <th>1</th>\n",
       "      <td>block_group</td>\n",
       "      <td>-3.892958e-06</td>\n",
       "    </tr>\n",
       "    <tr>\n",
       "      <th>8</th>\n",
       "      <td>nh_sor_alone_cen_2010</td>\n",
       "      <td>-4.458951e-06</td>\n",
       "    </tr>\n",
       "    <tr>\n",
       "      <th>29</th>\n",
       "      <td>pct_no_plumb_acs_09_13</td>\n",
       "      <td>-7.740430e-06</td>\n",
       "    </tr>\n",
       "    <tr>\n",
       "      <th>5</th>\n",
       "      <td>nh_aian_alone_cen_2010</td>\n",
       "      <td>-7.906947e-06</td>\n",
       "    </tr>\n",
       "    <tr>\n",
       "      <th>26</th>\n",
       "      <td>pct_vacant_units_cen_2010</td>\n",
       "      <td>-2.622556e-05</td>\n",
       "    </tr>\n",
       "    <tr>\n",
       "      <th>16</th>\n",
       "      <td>no_plumb_acs_09_13</td>\n",
       "      <td>-3.223952e-05</td>\n",
       "    </tr>\n",
       "    <tr>\n",
       "      <th>25</th>\n",
       "      <td>pct_no_health_ins_acs_09_13</td>\n",
       "      <td>-3.602967e-05</td>\n",
       "    </tr>\n",
       "    <tr>\n",
       "      <th>28</th>\n",
       "      <td>pct_owner_occp_hu_cen_2010</td>\n",
       "      <td>-3.733858e-05</td>\n",
       "    </tr>\n",
       "    <tr>\n",
       "      <th>6</th>\n",
       "      <td>nh_asian_alone_cen_2010</td>\n",
       "      <td>-4.356403e-05</td>\n",
       "    </tr>\n",
       "    <tr>\n",
       "      <th>18</th>\n",
       "      <td>pct_hispanic_cen_2010</td>\n",
       "      <td>-5.183070e-05</td>\n",
       "    </tr>\n",
       "    <tr>\n",
       "      <th>24</th>\n",
       "      <td>pct_not_hs_grad_acs_09_13</td>\n",
       "      <td>-5.223819e-05</td>\n",
       "    </tr>\n",
       "    <tr>\n",
       "      <th>11</th>\n",
       "      <td>med_hhd_inc_bg_acs_09_13</td>\n",
       "      <td>-5.869752e-05</td>\n",
       "    </tr>\n",
       "    <tr>\n",
       "      <th>19</th>\n",
       "      <td>pct_nh_blk_alone_cen_2010</td>\n",
       "      <td>-6.635504e-05</td>\n",
       "    </tr>\n",
       "    <tr>\n",
       "      <th>15</th>\n",
       "      <td>owner_occp_hu_cen_2010</td>\n",
       "      <td>-1.046232e-04</td>\n",
       "    </tr>\n",
       "    <tr>\n",
       "      <th>27</th>\n",
       "      <td>pct_renter_occp_hu_cen_2010</td>\n",
       "      <td>-1.182389e-04</td>\n",
       "    </tr>\n",
       "    <tr>\n",
       "      <th>13</th>\n",
       "      <td>tot_vacant_units_cen_2010</td>\n",
       "      <td>-1.236180e-04</td>\n",
       "    </tr>\n",
       "    <tr>\n",
       "      <th>10</th>\n",
       "      <td>no_health_ins_acs_09_13</td>\n",
       "      <td>-4.210638e-04</td>\n",
       "    </tr>\n",
       "    <tr>\n",
       "      <th>14</th>\n",
       "      <td>renter_occp_hu_cen_2010</td>\n",
       "      <td>-4.965327e-04</td>\n",
       "    </tr>\n",
       "    <tr>\n",
       "      <th>3</th>\n",
       "      <td>hispanic_cen_2010</td>\n",
       "      <td>-6.927764e-04</td>\n",
       "    </tr>\n",
       "    <tr>\n",
       "      <th>4</th>\n",
       "      <td>nh_blk_alone_cen_2010</td>\n",
       "      <td>-7.328345e-04</td>\n",
       "    </tr>\n",
       "    <tr>\n",
       "      <th>2</th>\n",
       "      <td>tot_population_cen_2010</td>\n",
       "      <td>-1.844212e-03</td>\n",
       "    </tr>\n",
       "  </tbody>\n",
       "</table>\n",
       "</div>"
      ],
      "text/plain": [
       "                    feature_name        correl\n",
       "30                    site_score  4.715409e-05\n",
       "12    aggregate_hh_inc_acs_09_13  4.285062e-08\n",
       "22   pct_nh_nhopi_alone_cen_2010 -2.700102e-07\n",
       "23     pct_nh_sor_alone_cen_2010 -3.259399e-07\n",
       "20    pct_nh_aian_alone_cen_2010 -8.283358e-07\n",
       "0                          tract -1.667851e-06\n",
       "7        nh_nhopi_alone_cen_2010 -2.015160e-06\n",
       "9              college_acs_09_13 -2.263011e-06\n",
       "17  med_house_value_bg_acs_09_13 -2.762896e-06\n",
       "21   pct_nh_asian_alone_cen_2010 -3.704114e-06\n",
       "1                    block_group -3.892958e-06\n",
       "8          nh_sor_alone_cen_2010 -4.458951e-06\n",
       "29        pct_no_plumb_acs_09_13 -7.740430e-06\n",
       "5         nh_aian_alone_cen_2010 -7.906947e-06\n",
       "26     pct_vacant_units_cen_2010 -2.622556e-05\n",
       "16            no_plumb_acs_09_13 -3.223952e-05\n",
       "25   pct_no_health_ins_acs_09_13 -3.602967e-05\n",
       "28    pct_owner_occp_hu_cen_2010 -3.733858e-05\n",
       "6        nh_asian_alone_cen_2010 -4.356403e-05\n",
       "18         pct_hispanic_cen_2010 -5.183070e-05\n",
       "24     pct_not_hs_grad_acs_09_13 -5.223819e-05\n",
       "11      med_hhd_inc_bg_acs_09_13 -5.869752e-05\n",
       "19     pct_nh_blk_alone_cen_2010 -6.635504e-05\n",
       "15        owner_occp_hu_cen_2010 -1.046232e-04\n",
       "27   pct_renter_occp_hu_cen_2010 -1.182389e-04\n",
       "13     tot_vacant_units_cen_2010 -1.236180e-04\n",
       "10       no_health_ins_acs_09_13 -4.210638e-04\n",
       "14       renter_occp_hu_cen_2010 -4.965327e-04\n",
       "3              hispanic_cen_2010 -6.927764e-04\n",
       "4          nh_blk_alone_cen_2010 -7.328345e-04\n",
       "2        tot_population_cen_2010 -1.844212e-03"
      ]
     },
     "execution_count": 63,
     "metadata": {},
     "output_type": "execute_result"
    }
   ],
   "source": [
    "coef = model.coef_[0]\n",
    "col_names = X.columns\n",
    "feat_lst = list(zip(col_names, coef))\n",
    "summary_df = pd.DataFrame({'feature_name': col_names, 'correl': coef})\n",
    "summary_df.sort_values(['correl'], ascending=False)"
   ]
  },
  {
   "cell_type": "code",
   "execution_count": 53,
   "metadata": {},
   "outputs": [
    {
     "name": "stdout",
     "output_type": "stream",
     "text": [
      "Training Data Score: 0.9937515878104547\n",
      "Testing Data Score: 0.9940480510996589\n"
     ]
    }
   ],
   "source": [
    "print(f\"Training Data Score: {model.score(X_train, y_train)}\")\n",
    "print(f\"Testing Data Score: {model.score(X_test, y_test)}\")"
   ]
  },
  {
   "cell_type": "code",
   "execution_count": 54,
   "metadata": {},
   "outputs": [],
   "source": [
    "from sklearn.model_selection import GridSearchCV\n",
    "param_grid = {'C': [1, 5, 10, 50],\n",
    "              }\n",
    "grid = GridSearchCV(model, param_grid, verbose=2)"
   ]
  },
  {
   "cell_type": "code",
   "execution_count": 55,
   "metadata": {},
   "outputs": [
    {
     "name": "stdout",
     "output_type": "stream",
     "text": [
      "Fitting 5 folds for each of 4 candidates, totalling 20 fits\n",
      "[CV] C=1 .............................................................\n"
     ]
    },
    {
     "name": "stderr",
     "output_type": "stream",
     "text": [
      "[Parallel(n_jobs=1)]: Using backend SequentialBackend with 1 concurrent workers.\n",
      "/Users/carlhmackensen/opt/anaconda3/envs/PythonData/lib/python3.6/site-packages/sklearn/utils/validation.py:760: DataConversionWarning: A column-vector y was passed when a 1d array was expected. Please change the shape of y to (n_samples, ), for example using ravel().\n",
      "  y = column_or_1d(y, warn=True)\n"
     ]
    },
    {
     "name": "stdout",
     "output_type": "stream",
     "text": [
      "[CV] .............................................. C=1, total=   1.0s\n",
      "[CV] C=1 .............................................................\n"
     ]
    },
    {
     "name": "stderr",
     "output_type": "stream",
     "text": [
      "[Parallel(n_jobs=1)]: Done   1 out of   1 | elapsed:    1.0s remaining:    0.0s\n",
      "/Users/carlhmackensen/opt/anaconda3/envs/PythonData/lib/python3.6/site-packages/sklearn/utils/validation.py:760: DataConversionWarning: A column-vector y was passed when a 1d array was expected. Please change the shape of y to (n_samples, ), for example using ravel().\n",
      "  y = column_or_1d(y, warn=True)\n"
     ]
    },
    {
     "name": "stdout",
     "output_type": "stream",
     "text": [
      "[CV] .............................................. C=1, total=   1.0s\n",
      "[CV] C=1 .............................................................\n"
     ]
    },
    {
     "name": "stderr",
     "output_type": "stream",
     "text": [
      "/Users/carlhmackensen/opt/anaconda3/envs/PythonData/lib/python3.6/site-packages/sklearn/utils/validation.py:760: DataConversionWarning: A column-vector y was passed when a 1d array was expected. Please change the shape of y to (n_samples, ), for example using ravel().\n",
      "  y = column_or_1d(y, warn=True)\n"
     ]
    },
    {
     "name": "stdout",
     "output_type": "stream",
     "text": [
      "[CV] .............................................. C=1, total=   0.7s\n",
      "[CV] C=1 .............................................................\n"
     ]
    },
    {
     "name": "stderr",
     "output_type": "stream",
     "text": [
      "/Users/carlhmackensen/opt/anaconda3/envs/PythonData/lib/python3.6/site-packages/sklearn/utils/validation.py:760: DataConversionWarning: A column-vector y was passed when a 1d array was expected. Please change the shape of y to (n_samples, ), for example using ravel().\n",
      "  y = column_or_1d(y, warn=True)\n"
     ]
    },
    {
     "name": "stdout",
     "output_type": "stream",
     "text": [
      "[CV] .............................................. C=1, total=   1.1s\n",
      "[CV] C=1 .............................................................\n"
     ]
    },
    {
     "name": "stderr",
     "output_type": "stream",
     "text": [
      "/Users/carlhmackensen/opt/anaconda3/envs/PythonData/lib/python3.6/site-packages/sklearn/utils/validation.py:760: DataConversionWarning: A column-vector y was passed when a 1d array was expected. Please change the shape of y to (n_samples, ), for example using ravel().\n",
      "  y = column_or_1d(y, warn=True)\n"
     ]
    },
    {
     "name": "stdout",
     "output_type": "stream",
     "text": [
      "[CV] .............................................. C=1, total=   1.1s\n",
      "[CV] C=5 .............................................................\n"
     ]
    },
    {
     "name": "stderr",
     "output_type": "stream",
     "text": [
      "/Users/carlhmackensen/opt/anaconda3/envs/PythonData/lib/python3.6/site-packages/sklearn/utils/validation.py:760: DataConversionWarning: A column-vector y was passed when a 1d array was expected. Please change the shape of y to (n_samples, ), for example using ravel().\n",
      "  y = column_or_1d(y, warn=True)\n"
     ]
    },
    {
     "name": "stdout",
     "output_type": "stream",
     "text": [
      "[CV] .............................................. C=5, total=   1.0s\n",
      "[CV] C=5 .............................................................\n"
     ]
    },
    {
     "name": "stderr",
     "output_type": "stream",
     "text": [
      "/Users/carlhmackensen/opt/anaconda3/envs/PythonData/lib/python3.6/site-packages/sklearn/utils/validation.py:760: DataConversionWarning: A column-vector y was passed when a 1d array was expected. Please change the shape of y to (n_samples, ), for example using ravel().\n",
      "  y = column_or_1d(y, warn=True)\n"
     ]
    },
    {
     "name": "stdout",
     "output_type": "stream",
     "text": [
      "[CV] .............................................. C=5, total=   1.1s\n",
      "[CV] C=5 .............................................................\n"
     ]
    },
    {
     "name": "stderr",
     "output_type": "stream",
     "text": [
      "/Users/carlhmackensen/opt/anaconda3/envs/PythonData/lib/python3.6/site-packages/sklearn/utils/validation.py:760: DataConversionWarning: A column-vector y was passed when a 1d array was expected. Please change the shape of y to (n_samples, ), for example using ravel().\n",
      "  y = column_or_1d(y, warn=True)\n"
     ]
    },
    {
     "name": "stdout",
     "output_type": "stream",
     "text": [
      "[CV] .............................................. C=5, total=   0.8s\n",
      "[CV] C=5 .............................................................\n"
     ]
    },
    {
     "name": "stderr",
     "output_type": "stream",
     "text": [
      "/Users/carlhmackensen/opt/anaconda3/envs/PythonData/lib/python3.6/site-packages/sklearn/utils/validation.py:760: DataConversionWarning: A column-vector y was passed when a 1d array was expected. Please change the shape of y to (n_samples, ), for example using ravel().\n",
      "  y = column_or_1d(y, warn=True)\n"
     ]
    },
    {
     "name": "stdout",
     "output_type": "stream",
     "text": [
      "[CV] .............................................. C=5, total=   2.1s\n",
      "[CV] C=5 .............................................................\n"
     ]
    },
    {
     "name": "stderr",
     "output_type": "stream",
     "text": [
      "/Users/carlhmackensen/opt/anaconda3/envs/PythonData/lib/python3.6/site-packages/sklearn/utils/validation.py:760: DataConversionWarning: A column-vector y was passed when a 1d array was expected. Please change the shape of y to (n_samples, ), for example using ravel().\n",
      "  y = column_or_1d(y, warn=True)\n"
     ]
    },
    {
     "name": "stdout",
     "output_type": "stream",
     "text": [
      "[CV] .............................................. C=5, total=   1.8s\n",
      "[CV] C=10 ............................................................\n"
     ]
    },
    {
     "name": "stderr",
     "output_type": "stream",
     "text": [
      "/Users/carlhmackensen/opt/anaconda3/envs/PythonData/lib/python3.6/site-packages/sklearn/utils/validation.py:760: DataConversionWarning: A column-vector y was passed when a 1d array was expected. Please change the shape of y to (n_samples, ), for example using ravel().\n",
      "  y = column_or_1d(y, warn=True)\n"
     ]
    },
    {
     "name": "stdout",
     "output_type": "stream",
     "text": [
      "[CV] ............................................. C=10, total=   1.1s\n",
      "[CV] C=10 ............................................................\n"
     ]
    },
    {
     "name": "stderr",
     "output_type": "stream",
     "text": [
      "/Users/carlhmackensen/opt/anaconda3/envs/PythonData/lib/python3.6/site-packages/sklearn/utils/validation.py:760: DataConversionWarning: A column-vector y was passed when a 1d array was expected. Please change the shape of y to (n_samples, ), for example using ravel().\n",
      "  y = column_or_1d(y, warn=True)\n"
     ]
    },
    {
     "name": "stdout",
     "output_type": "stream",
     "text": [
      "[CV] ............................................. C=10, total=   1.3s\n",
      "[CV] C=10 ............................................................\n"
     ]
    },
    {
     "name": "stderr",
     "output_type": "stream",
     "text": [
      "/Users/carlhmackensen/opt/anaconda3/envs/PythonData/lib/python3.6/site-packages/sklearn/utils/validation.py:760: DataConversionWarning: A column-vector y was passed when a 1d array was expected. Please change the shape of y to (n_samples, ), for example using ravel().\n",
      "  y = column_or_1d(y, warn=True)\n"
     ]
    },
    {
     "name": "stdout",
     "output_type": "stream",
     "text": [
      "[CV] ............................................. C=10, total=   0.8s\n",
      "[CV] C=10 ............................................................\n"
     ]
    },
    {
     "name": "stderr",
     "output_type": "stream",
     "text": [
      "/Users/carlhmackensen/opt/anaconda3/envs/PythonData/lib/python3.6/site-packages/sklearn/utils/validation.py:760: DataConversionWarning: A column-vector y was passed when a 1d array was expected. Please change the shape of y to (n_samples, ), for example using ravel().\n",
      "  y = column_or_1d(y, warn=True)\n"
     ]
    },
    {
     "name": "stdout",
     "output_type": "stream",
     "text": [
      "[CV] ............................................. C=10, total=   1.4s\n",
      "[CV] C=10 ............................................................\n"
     ]
    },
    {
     "name": "stderr",
     "output_type": "stream",
     "text": [
      "/Users/carlhmackensen/opt/anaconda3/envs/PythonData/lib/python3.6/site-packages/sklearn/utils/validation.py:760: DataConversionWarning: A column-vector y was passed when a 1d array was expected. Please change the shape of y to (n_samples, ), for example using ravel().\n",
      "  y = column_or_1d(y, warn=True)\n"
     ]
    },
    {
     "name": "stdout",
     "output_type": "stream",
     "text": [
      "[CV] ............................................. C=10, total=   1.1s\n",
      "[CV] C=50 ............................................................\n"
     ]
    },
    {
     "name": "stderr",
     "output_type": "stream",
     "text": [
      "/Users/carlhmackensen/opt/anaconda3/envs/PythonData/lib/python3.6/site-packages/sklearn/utils/validation.py:760: DataConversionWarning: A column-vector y was passed when a 1d array was expected. Please change the shape of y to (n_samples, ), for example using ravel().\n",
      "  y = column_or_1d(y, warn=True)\n"
     ]
    },
    {
     "name": "stdout",
     "output_type": "stream",
     "text": [
      "[CV] ............................................. C=50, total=   1.8s\n",
      "[CV] C=50 ............................................................\n"
     ]
    },
    {
     "name": "stderr",
     "output_type": "stream",
     "text": [
      "/Users/carlhmackensen/opt/anaconda3/envs/PythonData/lib/python3.6/site-packages/sklearn/utils/validation.py:760: DataConversionWarning: A column-vector y was passed when a 1d array was expected. Please change the shape of y to (n_samples, ), for example using ravel().\n",
      "  y = column_or_1d(y, warn=True)\n"
     ]
    },
    {
     "name": "stdout",
     "output_type": "stream",
     "text": [
      "[CV] ............................................. C=50, total=   1.0s\n",
      "[CV] C=50 ............................................................\n"
     ]
    },
    {
     "name": "stderr",
     "output_type": "stream",
     "text": [
      "/Users/carlhmackensen/opt/anaconda3/envs/PythonData/lib/python3.6/site-packages/sklearn/utils/validation.py:760: DataConversionWarning: A column-vector y was passed when a 1d array was expected. Please change the shape of y to (n_samples, ), for example using ravel().\n",
      "  y = column_or_1d(y, warn=True)\n"
     ]
    },
    {
     "name": "stdout",
     "output_type": "stream",
     "text": [
      "[CV] ............................................. C=50, total=   0.8s\n",
      "[CV] C=50 ............................................................\n"
     ]
    },
    {
     "name": "stderr",
     "output_type": "stream",
     "text": [
      "/Users/carlhmackensen/opt/anaconda3/envs/PythonData/lib/python3.6/site-packages/sklearn/utils/validation.py:760: DataConversionWarning: A column-vector y was passed when a 1d array was expected. Please change the shape of y to (n_samples, ), for example using ravel().\n",
      "  y = column_or_1d(y, warn=True)\n"
     ]
    },
    {
     "name": "stdout",
     "output_type": "stream",
     "text": [
      "[CV] ............................................. C=50, total=   0.9s\n",
      "[CV] C=50 ............................................................\n"
     ]
    },
    {
     "name": "stderr",
     "output_type": "stream",
     "text": [
      "/Users/carlhmackensen/opt/anaconda3/envs/PythonData/lib/python3.6/site-packages/sklearn/utils/validation.py:760: DataConversionWarning: A column-vector y was passed when a 1d array was expected. Please change the shape of y to (n_samples, ), for example using ravel().\n",
      "  y = column_or_1d(y, warn=True)\n"
     ]
    },
    {
     "name": "stdout",
     "output_type": "stream",
     "text": [
      "[CV] ............................................. C=50, total=   1.0s\n"
     ]
    },
    {
     "name": "stderr",
     "output_type": "stream",
     "text": [
      "[Parallel(n_jobs=1)]: Done  20 out of  20 | elapsed:   23.0s finished\n",
      "/Users/carlhmackensen/opt/anaconda3/envs/PythonData/lib/python3.6/site-packages/sklearn/utils/validation.py:760: DataConversionWarning: A column-vector y was passed when a 1d array was expected. Please change the shape of y to (n_samples, ), for example using ravel().\n",
      "  y = column_or_1d(y, warn=True)\n"
     ]
    },
    {
     "data": {
      "text/plain": [
       "GridSearchCV(cv=None, error_score=nan,\n",
       "             estimator=LogisticRegression(C=1.0, class_weight=None, dual=False,\n",
       "                                          fit_intercept=True,\n",
       "                                          intercept_scaling=1, l1_ratio=None,\n",
       "                                          max_iter=100, multi_class='auto',\n",
       "                                          n_jobs=None, penalty='l2',\n",
       "                                          random_state=None, solver='lbfgs',\n",
       "                                          tol=0.0001, verbose=0,\n",
       "                                          warm_start=False),\n",
       "             iid='deprecated', n_jobs=None, param_grid={'C': [1, 5, 10, 50]},\n",
       "             pre_dispatch='2*n_jobs', refit=True, return_train_score=False,\n",
       "             scoring=None, verbose=2)"
      ]
     },
     "execution_count": 55,
     "metadata": {},
     "output_type": "execute_result"
    }
   ],
   "source": [
    "grid.fit(X_train, y_train)"
   ]
  },
  {
   "cell_type": "code",
   "execution_count": 56,
   "metadata": {},
   "outputs": [
    {
     "name": "stdout",
     "output_type": "stream",
     "text": [
      "{'C': 1}\n",
      "0.9937757832721322\n"
     ]
    }
   ],
   "source": [
    "print(grid.best_params_)\n",
    "print(grid.best_score_)"
   ]
  },
  {
   "cell_type": "code",
   "execution_count": 57,
   "metadata": {},
   "outputs": [
    {
     "name": "stdout",
     "output_type": "stream",
     "text": [
      "              precision    recall  f1-score   support\n",
      "\n",
      "         0.0       0.99      1.00      1.00     54782\n",
      "         1.0       0.00      0.00      0.00       326\n",
      "\n",
      "    accuracy                           0.99     55108\n",
      "   macro avg       0.50      0.50      0.50     55108\n",
      "weighted avg       0.99      0.99      0.99     55108\n",
      "\n"
     ]
    }
   ],
   "source": [
    "from sklearn.metrics import classification_report\n",
    "predictions = grid.predict(X_test)\n",
    "print(classification_report(y_test, predictions))"
   ]
  },
  {
   "cell_type": "code",
   "execution_count": 58,
   "metadata": {},
   "outputs": [],
   "source": [
    "from sklearn.linear_model import LinearRegression\n",
    "model = LinearRegression()"
   ]
  },
  {
   "cell_type": "code",
   "execution_count": 59,
   "metadata": {},
   "outputs": [
    {
     "name": "stdout",
     "output_type": "stream",
     "text": [
      "Training Score: 0.9210395077188254\n",
      "Testing Score: 0.9374114005640006\n"
     ]
    }
   ],
   "source": [
    "model.fit(X_train, y_train)\n",
    "training_score = model.score(X_train, y_train)\n",
    "testing_score = model.score(X_test, y_test)\n",
    "\n",
    "### END SOLUTION \n",
    "\n",
    "print(f\"Training Score: {training_score}\")\n",
    "print(f\"Testing Score: {testing_score}\")"
   ]
  },
  {
   "cell_type": "code",
   "execution_count": 60,
   "metadata": {},
   "outputs": [
    {
     "data": {
      "text/plain": [
       "Text(0.5, 1.0, 'Residual Plot')"
      ]
     },
     "execution_count": 60,
     "metadata": {},
     "output_type": "execute_result"
    },
    {
     "data": {
      "image/png": "[encoded data removed]",
      "text/plain": [
       "<Figure size 432x288 with 1 Axes>"
      ]
     },
     "metadata": {
      "needs_background": "light"
     },
     "output_type": "display_data"
    }
   ],
   "source": [
    "plt.scatter(model.predict(X_train), model.predict(X_train) - y_train, c=\"blue\", label=\"Training Data\")\n",
    "plt.scatter(model.predict(X_test), model.predict(X_test) - y_test, c=\"orange\", label=\"Testing Data\")\n",
    "plt.legend()\n",
    "plt.hlines(y=0, xmin=y.min(), xmax=y.max())\n",
    "plt.title(\"Residual Plot\")"
   ]
  },
  {
   "cell_type": "code",
   "execution_count": 61,
   "metadata": {},
   "outputs": [
    {
     "data": {
      "text/html": [
       "<div>\n",
       "<style scoped>\n",
       "    .dataframe tbody tr th:only-of-type {\n",
       "        vertical-align: middle;\n",
       "    }\n",
       "\n",
       "    .dataframe tbody tr th {\n",
       "        vertical-align: top;\n",
       "    }\n",
       "\n",
       "    .dataframe thead th {\n",
       "        text-align: right;\n",
       "    }\n",
       "</style>\n",
       "<table border=\"1\" class=\"dataframe\">\n",
       "  <thead>\n",
       "    <tr style=\"text-align: right;\">\n",
       "      <th></th>\n",
       "      <th>feature_name</th>\n",
       "      <th>correl</th>\n",
       "    </tr>\n",
       "  </thead>\n",
       "  <tbody>\n",
       "    <tr>\n",
       "      <th>30</th>\n",
       "      <td>site_score</td>\n",
       "      <td>2.140927e-02</td>\n",
       "    </tr>\n",
       "    <tr>\n",
       "      <th>23</th>\n",
       "      <td>pct_nh_sor_alone_cen_2010</td>\n",
       "      <td>1.062654e-03</td>\n",
       "    </tr>\n",
       "    <tr>\n",
       "      <th>28</th>\n",
       "      <td>pct_owner_occp_hu_cen_2010</td>\n",
       "      <td>5.470176e-05</td>\n",
       "    </tr>\n",
       "    <tr>\n",
       "      <th>27</th>\n",
       "      <td>pct_renter_occp_hu_cen_2010</td>\n",
       "      <td>4.528212e-05</td>\n",
       "    </tr>\n",
       "    <tr>\n",
       "      <th>25</th>\n",
       "      <td>pct_no_health_ins_acs_09_13</td>\n",
       "      <td>2.882902e-05</td>\n",
       "    </tr>\n",
       "    <tr>\n",
       "      <th>21</th>\n",
       "      <td>pct_nh_asian_alone_cen_2010</td>\n",
       "      <td>1.567297e-05</td>\n",
       "    </tr>\n",
       "    <tr>\n",
       "      <th>7</th>\n",
       "      <td>nh_nhopi_alone_cen_2010</td>\n",
       "      <td>4.142373e-06</td>\n",
       "    </tr>\n",
       "    <tr>\n",
       "      <th>26</th>\n",
       "      <td>pct_vacant_units_cen_2010</td>\n",
       "      <td>4.042299e-06</td>\n",
       "    </tr>\n",
       "    <tr>\n",
       "      <th>1</th>\n",
       "      <td>block_group</td>\n",
       "      <td>3.606638e-06</td>\n",
       "    </tr>\n",
       "    <tr>\n",
       "      <th>24</th>\n",
       "      <td>pct_not_hs_grad_acs_09_13</td>\n",
       "      <td>2.695739e-06</td>\n",
       "    </tr>\n",
       "    <tr>\n",
       "      <th>2</th>\n",
       "      <td>tot_population_cen_2010</td>\n",
       "      <td>1.422030e-06</td>\n",
       "    </tr>\n",
       "    <tr>\n",
       "      <th>5</th>\n",
       "      <td>nh_aian_alone_cen_2010</td>\n",
       "      <td>9.251740e-07</td>\n",
       "    </tr>\n",
       "    <tr>\n",
       "      <th>3</th>\n",
       "      <td>hispanic_cen_2010</td>\n",
       "      <td>3.453531e-07</td>\n",
       "    </tr>\n",
       "    <tr>\n",
       "      <th>16</th>\n",
       "      <td>no_plumb_acs_09_13</td>\n",
       "      <td>3.035678e-07</td>\n",
       "    </tr>\n",
       "    <tr>\n",
       "      <th>0</th>\n",
       "      <td>tract</td>\n",
       "      <td>8.977022e-11</td>\n",
       "    </tr>\n",
       "    <tr>\n",
       "      <th>12</th>\n",
       "      <td>aggregate_hh_inc_acs_09_13</td>\n",
       "      <td>2.566711e-12</td>\n",
       "    </tr>\n",
       "    <tr>\n",
       "      <th>17</th>\n",
       "      <td>med_house_value_bg_acs_09_13</td>\n",
       "      <td>-3.404010e-10</td>\n",
       "    </tr>\n",
       "    <tr>\n",
       "      <th>11</th>\n",
       "      <td>med_hhd_inc_bg_acs_09_13</td>\n",
       "      <td>-2.272147e-09</td>\n",
       "    </tr>\n",
       "    <tr>\n",
       "      <th>4</th>\n",
       "      <td>nh_blk_alone_cen_2010</td>\n",
       "      <td>-5.941407e-08</td>\n",
       "    </tr>\n",
       "    <tr>\n",
       "      <th>13</th>\n",
       "      <td>tot_vacant_units_cen_2010</td>\n",
       "      <td>-5.969885e-08</td>\n",
       "    </tr>\n",
       "    <tr>\n",
       "      <th>9</th>\n",
       "      <td>college_acs_09_13</td>\n",
       "      <td>-7.614134e-08</td>\n",
       "    </tr>\n",
       "    <tr>\n",
       "      <th>14</th>\n",
       "      <td>renter_occp_hu_cen_2010</td>\n",
       "      <td>-4.335152e-07</td>\n",
       "    </tr>\n",
       "    <tr>\n",
       "      <th>6</th>\n",
       "      <td>nh_asian_alone_cen_2010</td>\n",
       "      <td>-9.206599e-07</td>\n",
       "    </tr>\n",
       "    <tr>\n",
       "      <th>10</th>\n",
       "      <td>no_health_ins_acs_09_13</td>\n",
       "      <td>-2.470556e-06</td>\n",
       "    </tr>\n",
       "    <tr>\n",
       "      <th>19</th>\n",
       "      <td>pct_nh_blk_alone_cen_2010</td>\n",
       "      <td>-3.122982e-06</td>\n",
       "    </tr>\n",
       "    <tr>\n",
       "      <th>15</th>\n",
       "      <td>owner_occp_hu_cen_2010</td>\n",
       "      <td>-3.427971e-06</td>\n",
       "    </tr>\n",
       "    <tr>\n",
       "      <th>29</th>\n",
       "      <td>pct_no_plumb_acs_09_13</td>\n",
       "      <td>-1.100856e-05</td>\n",
       "    </tr>\n",
       "    <tr>\n",
       "      <th>18</th>\n",
       "      <td>pct_hispanic_cen_2010</td>\n",
       "      <td>-1.135189e-05</td>\n",
       "    </tr>\n",
       "    <tr>\n",
       "      <th>20</th>\n",
       "      <td>pct_nh_aian_alone_cen_2010</td>\n",
       "      <td>-2.564523e-05</td>\n",
       "    </tr>\n",
       "    <tr>\n",
       "      <th>8</th>\n",
       "      <td>nh_sor_alone_cen_2010</td>\n",
       "      <td>-6.719958e-05</td>\n",
       "    </tr>\n",
       "    <tr>\n",
       "      <th>22</th>\n",
       "      <td>pct_nh_nhopi_alone_cen_2010</td>\n",
       "      <td>-1.276606e-04</td>\n",
       "    </tr>\n",
       "  </tbody>\n",
       "</table>\n",
       "</div>"
      ],
      "text/plain": [
       "                    feature_name        correl\n",
       "30                    site_score  2.140927e-02\n",
       "23     pct_nh_sor_alone_cen_2010  1.062654e-03\n",
       "28    pct_owner_occp_hu_cen_2010  5.470176e-05\n",
       "27   pct_renter_occp_hu_cen_2010  4.528212e-05\n",
       "25   pct_no_health_ins_acs_09_13  2.882902e-05\n",
       "21   pct_nh_asian_alone_cen_2010  1.567297e-05\n",
       "7        nh_nhopi_alone_cen_2010  4.142373e-06\n",
       "26     pct_vacant_units_cen_2010  4.042299e-06\n",
       "1                    block_group  3.606638e-06\n",
       "24     pct_not_hs_grad_acs_09_13  2.695739e-06\n",
       "2        tot_population_cen_2010  1.422030e-06\n",
       "5         nh_aian_alone_cen_2010  9.251740e-07\n",
       "3              hispanic_cen_2010  3.453531e-07\n",
       "16            no_plumb_acs_09_13  3.035678e-07\n",
       "0                          tract  8.977022e-11\n",
       "12    aggregate_hh_inc_acs_09_13  2.566711e-12\n",
       "17  med_house_value_bg_acs_09_13 -3.404010e-10\n",
       "11      med_hhd_inc_bg_acs_09_13 -2.272147e-09\n",
       "4          nh_blk_alone_cen_2010 -5.941407e-08\n",
       "13     tot_vacant_units_cen_2010 -5.969885e-08\n",
       "9              college_acs_09_13 -7.614134e-08\n",
       "14       renter_occp_hu_cen_2010 -4.335152e-07\n",
       "6        nh_asian_alone_cen_2010 -9.206599e-07\n",
       "10       no_health_ins_acs_09_13 -2.470556e-06\n",
       "19     pct_nh_blk_alone_cen_2010 -3.122982e-06\n",
       "15        owner_occp_hu_cen_2010 -3.427971e-06\n",
       "29        pct_no_plumb_acs_09_13 -1.100856e-05\n",
       "18         pct_hispanic_cen_2010 -1.135189e-05\n",
       "20    pct_nh_aian_alone_cen_2010 -2.564523e-05\n",
       "8          nh_sor_alone_cen_2010 -6.719958e-05\n",
       "22   pct_nh_nhopi_alone_cen_2010 -1.276606e-04"
      ]
     },
     "execution_count": 61,
     "metadata": {},
     "output_type": "execute_result"
    }
   ],
   "source": [
    "coef = model.coef_[0]\n",
    "col_names = X.columns\n",
    "feat_lst = list(zip(col_names, coef))\n",
    "summary_df = pd.DataFrame({'feature_name': col_names, 'correl': coef})\n",
    "summary_df.sort_values(['correl'], ascending=False)"
   ]
  },
  {
   "cell_type": "code",
   "execution_count": null,
   "metadata": {},
   "outputs": [],
   "source": []
  }
 ],
 "metadata": {
  "kernelspec": {
   "display_name": "Python 3",
   "language": "python",
   "name": "python3"
  },
  "language_info": {
   "codemirror_mode": {
    "name": "ipython",
    "version": 3
   },
   "file_extension": ".py",
   "mimetype": "text/x-python",
   "name": "python",
   "nbconvert_exporter": "python",
   "pygments_lexer": "ipython3",
   "version": "3.6.10"
  }
 },
 "nbformat": 4,
 "nbformat_minor": 4
}
