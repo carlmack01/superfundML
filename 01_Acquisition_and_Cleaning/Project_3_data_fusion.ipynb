{
 "cells": [
  {
   "cell_type": "markdown",
   "metadata": {},
   "source": [
    "# Setup"
   ]
  },
  {
   "cell_type": "markdown",
   "metadata": {},
   "source": [
    "## Import Libraries"
   ]
  },
  {
   "cell_type": "code",
   "execution_count": 1,
   "metadata": {},
   "outputs": [],
   "source": [
    "import pandas as pd\n",
    "import os\n",
    "import json"
   ]
  },
  {
   "cell_type": "markdown",
   "metadata": {},
   "source": [
    "## Set file locations"
   ]
  },
  {
   "cell_type": "code",
   "execution_count": 2,
   "metadata": {},
   "outputs": [],
   "source": [
    "# tract data\n",
    "tract_data_csv = \"../00_Data/cleaned_data/cleaned_pdb_tract.csv\"\n",
    "tract_data_json = \"../00_Data/cleaned_data/cleaned_pdb_tract.json\"\n",
    "\n",
    "# block data\n",
    "block_data_csv = \"../00_Data/cleaned_data/cleaned_pdb_block_group.csv\"\n",
    "block_data_json = \"../00_Data/cleaned_data/cleaned_pdb_block_group.json\"\n",
    "\n",
    "# site data\n",
    "site_data_csv = \"../00_Data/cleaned_data/cleaned_priorities_list.csv\"\n",
    "site_data_json = \"../00_Data/cleaned_data/cleaned_priorities_list.json\"\n",
    "\n",
    "# inspection csv\n",
    "inspection_csv = \"../00_Data/inspection_files/inspection_file.csv\"\n",
    "\n",
    "# cleaned, merged data\n",
    "merged_data_csv = \"../00_Data/cleaned_data/cleaned_merged_data.csv\"\n",
    "merged_data_json = \"../00_Data/cleaned_data/cleaned_merged_data.json\""
   ]
  },
  {
   "cell_type": "markdown",
   "metadata": {},
   "source": [
    "# Import Data"
   ]
  },
  {
   "cell_type": "code",
   "execution_count": 3,
   "metadata": {},
   "outputs": [
    {
     "name": "stdout",
     "output_type": "stream",
     "text": [
      "<class 'pandas.core.frame.DataFrame'>\n",
      "RangeIndex: 220354 entries, 0 to 220353\n",
      "Data columns (total 34 columns):\n",
      " #   Column                        Non-Null Count   Dtype  \n",
      "---  ------                        --------------   -----  \n",
      " 0   fips_block_group              220354 non-null  int64  \n",
      " 1   state_name                    220354 non-null  object \n",
      " 2   county_name                   220354 non-null  object \n",
      " 3   tract                         220354 non-null  int64  \n",
      " 4   block_group                   220354 non-null  int64  \n",
      " 5   tot_population_cen_2010       220354 non-null  float64\n",
      " 6   hispanic_cen_2010             220354 non-null  float64\n",
      " 7   nh_blk_alone_cen_2010         220354 non-null  float64\n",
      " 8   nh_aian_alone_cen_2010        220354 non-null  float64\n",
      " 9   nh_asian_alone_cen_2010       220354 non-null  float64\n",
      " 10  nh_nhopi_alone_cen_2010       220354 non-null  float64\n",
      " 11  nh_sor_alone_cen_2010         220354 non-null  float64\n",
      " 12  college_acs_09_13             220354 non-null  float64\n",
      " 13  no_health_ins_acs_09_13       220354 non-null  float64\n",
      " 14  med_hhd_inc_bg_acs_09_13      220354 non-null  float64\n",
      " 15  aggregate_hh_inc_acs_09_13    220354 non-null  float64\n",
      " 16  tot_vacant_units_cen_2010     220354 non-null  float64\n",
      " 17  renter_occp_hu_cen_2010       220354 non-null  float64\n",
      " 18  owner_occp_hu_cen_2010        220354 non-null  float64\n",
      " 19  no_plumb_acs_09_13            220354 non-null  float64\n",
      " 20  med_house_value_bg_acs_09_13  220354 non-null  float64\n",
      " 21  pct_hispanic_cen_2010         220354 non-null  float64\n",
      " 22  pct_nh_blk_alone_cen_2010     220354 non-null  float64\n",
      " 23  pct_nh_aian_alone_cen_2010    220354 non-null  float64\n",
      " 24  pct_nh_asian_alone_cen_2010   220354 non-null  float64\n",
      " 25  pct_nh_nhopi_alone_cen_2010   220354 non-null  float64\n",
      " 26  pct_nh_sor_alone_cen_2010     220354 non-null  float64\n",
      " 27  pct_not_hs_grad_acs_09_13     220354 non-null  float64\n",
      " 28  pct_no_health_ins_acs_09_13   220354 non-null  float64\n",
      " 29  pct_vacant_units_cen_2010     220354 non-null  float64\n",
      " 30  pct_renter_occp_hu_cen_2010   220354 non-null  float64\n",
      " 31  pct_owner_occp_hu_cen_2010    220354 non-null  float64\n",
      " 32  pct_no_plumb_acs_09_13        220354 non-null  float64\n",
      " 33  has_superfund                 220354 non-null  int64  \n",
      "dtypes: float64(28), int64(4), object(2)\n",
      "memory usage: 57.2+ MB\n"
     ]
    }
   ],
   "source": [
    "# Import census data\n",
    "census_df = pd.read_csv(block_data_csv)\n",
    "census_df.info()"
   ]
  },
  {
   "cell_type": "code",
   "execution_count": 4,
   "metadata": {},
   "outputs": [
    {
     "name": "stdout",
     "output_type": "stream",
     "text": [
      "<class 'pandas.core.frame.DataFrame'>\n",
      "RangeIndex: 1344 entries, 0 to 1343\n",
      "Data columns (total 39 columns):\n",
      " #   Column                        Non-Null Count  Dtype  \n",
      "---  ------                        --------------  -----  \n",
      " 0   fips_block_group              1344 non-null   int64  \n",
      " 1   address                       1344 non-null   object \n",
      " 2   city                          1344 non-null   object \n",
      " 3   latitude                      1344 non-null   float64\n",
      " 4   longitude                     1344 non-null   float64\n",
      " 5   site_score                    1344 non-null   float64\n",
      " 6   site_text                     1344 non-null   object \n",
      " 7   state_name                    1344 non-null   object \n",
      " 8   county_name                   1344 non-null   object \n",
      " 9   tract                         1344 non-null   int64  \n",
      " 10  block_group                   1344 non-null   int64  \n",
      " 11  tot_population_cen_2010       1344 non-null   int64  \n",
      " 12  hispanic_cen_2010             1344 non-null   int64  \n",
      " 13  nh_blk_alone_cen_2010         1344 non-null   int64  \n",
      " 14  nh_aian_alone_cen_2010        1344 non-null   int64  \n",
      " 15  nh_asian_alone_cen_2010       1344 non-null   int64  \n",
      " 16  nh_nhopi_alone_cen_2010       1344 non-null   int64  \n",
      " 17  nh_sor_alone_cen_2010         1344 non-null   int64  \n",
      " 18  college_acs_09_13             1344 non-null   int64  \n",
      " 19  no_health_ins_acs_09_13       1344 non-null   int64  \n",
      " 20  med_hhd_inc_bg_acs_09_13      1344 non-null   int64  \n",
      " 21  aggregate_hh_inc_acs_09_13    1344 non-null   int64  \n",
      " 22  tot_vacant_units_cen_2010     1344 non-null   int64  \n",
      " 23  renter_occp_hu_cen_2010       1344 non-null   int64  \n",
      " 24  owner_occp_hu_cen_2010        1344 non-null   int64  \n",
      " 25  no_plumb_acs_09_13            1344 non-null   int64  \n",
      " 26  med_house_value_bg_acs_09_13  1344 non-null   int64  \n",
      " 27  pct_hispanic_cen_2010         1344 non-null   float64\n",
      " 28  pct_nh_blk_alone_cen_2010     1344 non-null   float64\n",
      " 29  pct_nh_aian_alone_cen_2010    1344 non-null   float64\n",
      " 30  pct_nh_asian_alone_cen_2010   1344 non-null   float64\n",
      " 31  pct_nh_nhopi_alone_cen_2010   1344 non-null   float64\n",
      " 32  pct_nh_sor_alone_cen_2010     1344 non-null   float64\n",
      " 33  pct_not_hs_grad_acs_09_13     1344 non-null   float64\n",
      " 34  pct_no_health_ins_acs_09_13   1344 non-null   float64\n",
      " 35  pct_vacant_units_cen_2010     1344 non-null   float64\n",
      " 36  pct_renter_occp_hu_cen_2010   1344 non-null   float64\n",
      " 37  pct_owner_occp_hu_cen_2010    1344 non-null   float64\n",
      " 38  pct_no_plumb_acs_09_13        1344 non-null   float64\n",
      "dtypes: float64(15), int64(19), object(5)\n",
      "memory usage: 409.6+ KB\n"
     ]
    }
   ],
   "source": [
    "# Import superfund site data\n",
    "site_df = pd.read_json(site_data_json)\n",
    "site_df.info()"
   ]
  },
  {
   "cell_type": "markdown",
   "metadata": {},
   "source": [
    "# Merge Data"
   ]
  },
  {
   "cell_type": "code",
   "execution_count": 5,
   "metadata": {},
   "outputs": [
    {
     "name": "stdout",
     "output_type": "stream",
     "text": [
      "<class 'pandas.core.frame.DataFrame'>\n",
      "Int64Index: 220431 entries, 0 to 220430\n",
      "Data columns (total 72 columns):\n",
      " #   Column                          Non-Null Count   Dtype  \n",
      "---  ------                          --------------   -----  \n",
      " 0   fips_block_group                220431 non-null  int64  \n",
      " 1   state_name_x                    220423 non-null  object \n",
      " 2   county_name_x                   220423 non-null  object \n",
      " 3   tract_x                         220423 non-null  float64\n",
      " 4   block_group_x                   220423 non-null  float64\n",
      " 5   tot_population_cen_2010_x       220423 non-null  float64\n",
      " 6   hispanic_cen_2010_x             220423 non-null  float64\n",
      " 7   nh_blk_alone_cen_2010_x         220423 non-null  float64\n",
      " 8   nh_aian_alone_cen_2010_x        220423 non-null  float64\n",
      " 9   nh_asian_alone_cen_2010_x       220423 non-null  float64\n",
      " 10  nh_nhopi_alone_cen_2010_x       220423 non-null  float64\n",
      " 11  nh_sor_alone_cen_2010_x         220423 non-null  float64\n",
      " 12  college_acs_09_13_x             220423 non-null  float64\n",
      " 13  no_health_ins_acs_09_13_x       220423 non-null  float64\n",
      " 14  med_hhd_inc_bg_acs_09_13_x      220423 non-null  float64\n",
      " 15  aggregate_hh_inc_acs_09_13_x    220423 non-null  float64\n",
      " 16  tot_vacant_units_cen_2010_x     220423 non-null  float64\n",
      " 17  renter_occp_hu_cen_2010_x       220423 non-null  float64\n",
      " 18  owner_occp_hu_cen_2010_x        220423 non-null  float64\n",
      " 19  no_plumb_acs_09_13_x            220423 non-null  float64\n",
      " 20  med_house_value_bg_acs_09_13_x  220423 non-null  float64\n",
      " 21  pct_hispanic_cen_2010_x         220423 non-null  float64\n",
      " 22  pct_nh_blk_alone_cen_2010_x     220423 non-null  float64\n",
      " 23  pct_nh_aian_alone_cen_2010_x    220423 non-null  float64\n",
      " 24  pct_nh_asian_alone_cen_2010_x   220423 non-null  float64\n",
      " 25  pct_nh_nhopi_alone_cen_2010_x   220423 non-null  float64\n",
      " 26  pct_nh_sor_alone_cen_2010_x     220423 non-null  float64\n",
      " 27  pct_not_hs_grad_acs_09_13_x     220423 non-null  float64\n",
      " 28  pct_no_health_ins_acs_09_13_x   220423 non-null  float64\n",
      " 29  pct_vacant_units_cen_2010_x     220423 non-null  float64\n",
      " 30  pct_renter_occp_hu_cen_2010_x   220423 non-null  float64\n",
      " 31  pct_owner_occp_hu_cen_2010_x    220423 non-null  float64\n",
      " 32  pct_no_plumb_acs_09_13_x        220423 non-null  float64\n",
      " 33  has_superfund                   220423 non-null  float64\n",
      " 34  address                         1348 non-null    object \n",
      " 35  city                            1348 non-null    object \n",
      " 36  latitude                        1348 non-null    float64\n",
      " 37  longitude                       1348 non-null    float64\n",
      " 38  site_score                      1348 non-null    float64\n",
      " 39  site_text                       1348 non-null    object \n",
      " 40  state_name_y                    1348 non-null    object \n",
      " 41  county_name_y                   1348 non-null    object \n",
      " 42  tract_y                         1348 non-null    float64\n",
      " 43  block_group_y                   1348 non-null    float64\n",
      " 44  tot_population_cen_2010_y       1348 non-null    float64\n",
      " 45  hispanic_cen_2010_y             1348 non-null    float64\n",
      " 46  nh_blk_alone_cen_2010_y         1348 non-null    float64\n",
      " 47  nh_aian_alone_cen_2010_y        1348 non-null    float64\n",
      " 48  nh_asian_alone_cen_2010_y       1348 non-null    float64\n",
      " 49  nh_nhopi_alone_cen_2010_y       1348 non-null    float64\n",
      " 50  nh_sor_alone_cen_2010_y         1348 non-null    float64\n",
      " 51  college_acs_09_13_y             1348 non-null    float64\n",
      " 52  no_health_ins_acs_09_13_y       1348 non-null    float64\n",
      " 53  med_hhd_inc_bg_acs_09_13_y      1348 non-null    float64\n",
      " 54  aggregate_hh_inc_acs_09_13_y    1348 non-null    float64\n",
      " 55  tot_vacant_units_cen_2010_y     1348 non-null    float64\n",
      " 56  renter_occp_hu_cen_2010_y       1348 non-null    float64\n",
      " 57  owner_occp_hu_cen_2010_y        1348 non-null    float64\n",
      " 58  no_plumb_acs_09_13_y            1348 non-null    float64\n",
      " 59  med_house_value_bg_acs_09_13_y  1348 non-null    float64\n",
      " 60  pct_hispanic_cen_2010_y         1348 non-null    float64\n",
      " 61  pct_nh_blk_alone_cen_2010_y     1348 non-null    float64\n",
      " 62  pct_nh_aian_alone_cen_2010_y    1348 non-null    float64\n",
      " 63  pct_nh_asian_alone_cen_2010_y   1348 non-null    float64\n",
      " 64  pct_nh_nhopi_alone_cen_2010_y   1348 non-null    float64\n",
      " 65  pct_nh_sor_alone_cen_2010_y     1348 non-null    float64\n",
      " 66  pct_not_hs_grad_acs_09_13_y     1348 non-null    float64\n",
      " 67  pct_no_health_ins_acs_09_13_y   1348 non-null    float64\n",
      " 68  pct_vacant_units_cen_2010_y     1348 non-null    float64\n",
      " 69  pct_renter_occp_hu_cen_2010_y   1348 non-null    float64\n",
      " 70  pct_owner_occp_hu_cen_2010_y    1348 non-null    float64\n",
      " 71  pct_no_plumb_acs_09_13_y        1348 non-null    float64\n",
      "dtypes: float64(64), int64(1), object(7)\n",
      "memory usage: 122.8+ MB\n"
     ]
    }
   ],
   "source": [
    "merged_df = pd.merge(census_df, site_df, how='outer', on='fips_block_group')\n",
    "merged_df.info()"
   ]
  },
  {
   "cell_type": "markdown",
   "metadata": {},
   "source": [
    "## Inspect/Clean the Merged Data\n",
    "Looking at the .info() above, we notice that there are some entries that may be missing some information, i.e. there are FIPS block IDs that are not part of the census data. Let's take a closer look at those. Later, we need to make some decisions about how we deal with that data."
   ]
  },
  {
   "cell_type": "markdown",
   "metadata": {},
   "source": [
    "### Inspection"
   ]
  },
  {
   "cell_type": "code",
   "execution_count": 6,
   "metadata": {},
   "outputs": [],
   "source": [
    "inspection_df = merged_df[merged_df['state_name_x'].isnull()]"
   ]
  },
  {
   "cell_type": "code",
   "execution_count": 7,
   "metadata": {},
   "outputs": [],
   "source": [
    "inspection_df.to_csv(inspection_csv, index = False)"
   ]
  },
  {
   "cell_type": "markdown",
   "metadata": {},
   "source": [
    "### Cleaning"
   ]
  },
  {
   "cell_type": "code",
   "execution_count": 8,
   "metadata": {},
   "outputs": [
    {
     "name": "stderr",
     "output_type": "stream",
     "text": [
      "C:\\Users\\jackc\\anaconda3\\envs\\PythonData\\lib\\site-packages\\pandas\\core\\frame.py:4153: SettingWithCopyWarning: \n",
      "A value is trying to be set on a copy of a slice from a DataFrame\n",
      "\n",
      "See the caveats in the documentation: https://pandas.pydata.org/pandas-docs/stable/user_guide/indexing.html#returning-a-view-versus-a-copy\n",
      "  downcast=downcast,\n"
     ]
    }
   ],
   "source": [
    "# drop the duplicate columns\n",
    "column_names = list(merged_df.columns.values)\n",
    "\n",
    "exclusion_list = ['_y']\n",
    "selected_columns = [x for x in column_names if all(y not in x for y in exclusion_list)]\n",
    "\n",
    "clean_merged_df = merged_df[selected_columns]\n",
    "\n",
    "# tidy up the column names\n",
    "clean_merged_df.columns = clean_merged_df.columns.str.rstrip('_x')\n",
    "\n",
    "# fill in nulls with zeros\n",
    "clean_merged_df.fillna(0, inplace = True)"
   ]
  },
  {
   "cell_type": "code",
   "execution_count": 9,
   "metadata": {},
   "outputs": [
    {
     "name": "stdout",
     "output_type": "stream",
     "text": [
      "<class 'pandas.core.frame.DataFrame'>\n",
      "Int64Index: 220431 entries, 0 to 220430\n",
      "Data columns (total 40 columns):\n",
      " #   Column                        Non-Null Count   Dtype  \n",
      "---  ------                        --------------   -----  \n",
      " 0   fips_block_group              220431 non-null  int64  \n",
      " 1   state_name                    220431 non-null  object \n",
      " 2   county_name                   220431 non-null  object \n",
      " 3   tract                         220431 non-null  float64\n",
      " 4   block_group                   220431 non-null  float64\n",
      " 5   tot_population_cen_2010       220431 non-null  float64\n",
      " 6   hispanic_cen_2010             220431 non-null  float64\n",
      " 7   nh_blk_alone_cen_2010         220431 non-null  float64\n",
      " 8   nh_aian_alone_cen_2010        220431 non-null  float64\n",
      " 9   nh_asian_alone_cen_2010       220431 non-null  float64\n",
      " 10  nh_nhopi_alone_cen_2010       220431 non-null  float64\n",
      " 11  nh_sor_alone_cen_2010         220431 non-null  float64\n",
      " 12  college_acs_09_13             220431 non-null  float64\n",
      " 13  no_health_ins_acs_09_13       220431 non-null  float64\n",
      " 14  med_hhd_inc_bg_acs_09_13      220431 non-null  float64\n",
      " 15  aggregate_hh_inc_acs_09_13    220431 non-null  float64\n",
      " 16  tot_vacant_units_cen_2010     220431 non-null  float64\n",
      " 17  renter_occp_hu_cen_2010       220431 non-null  float64\n",
      " 18  owner_occp_hu_cen_2010        220431 non-null  float64\n",
      " 19  no_plumb_acs_09_13            220431 non-null  float64\n",
      " 20  med_house_value_bg_acs_09_13  220431 non-null  float64\n",
      " 21  pct_hispanic_cen_2010         220431 non-null  float64\n",
      " 22  pct_nh_blk_alone_cen_2010     220431 non-null  float64\n",
      " 23  pct_nh_aian_alone_cen_2010    220431 non-null  float64\n",
      " 24  pct_nh_asian_alone_cen_2010   220431 non-null  float64\n",
      " 25  pct_nh_nhopi_alone_cen_2010   220431 non-null  float64\n",
      " 26  pct_nh_sor_alone_cen_2010     220431 non-null  float64\n",
      " 27  pct_not_hs_grad_acs_09_13     220431 non-null  float64\n",
      " 28  pct_no_health_ins_acs_09_13   220431 non-null  float64\n",
      " 29  pct_vacant_units_cen_2010     220431 non-null  float64\n",
      " 30  pct_renter_occp_hu_cen_2010   220431 non-null  float64\n",
      " 31  pct_owner_occp_hu_cen_2010    220431 non-null  float64\n",
      " 32  pct_no_plumb_acs_09_13        220431 non-null  float64\n",
      " 33  has_superfund                 220431 non-null  float64\n",
      " 34  address                       220431 non-null  object \n",
      " 35  city                          220431 non-null  object \n",
      " 36  latitude                      220431 non-null  float64\n",
      " 37  longitude                     220431 non-null  float64\n",
      " 38  site_score                    220431 non-null  float64\n",
      " 39  site_text                     220431 non-null  object \n",
      "dtypes: float64(34), int64(1), object(5)\n",
      "memory usage: 69.0+ MB\n"
     ]
    }
   ],
   "source": [
    "clean_merged_df.info()"
   ]
  },
  {
   "cell_type": "markdown",
   "metadata": {},
   "source": [
    "# Export the Merged Data"
   ]
  },
  {
   "cell_type": "code",
   "execution_count": 10,
   "metadata": {},
   "outputs": [],
   "source": [
    "# Export to csv\n",
    "clean_merged_df.to_csv(merged_data_csv, index = False)"
   ]
  },
  {
   "cell_type": "code",
   "execution_count": 11,
   "metadata": {},
   "outputs": [],
   "source": [
    "# Export to flat json\n",
    "clean_merged_df.to_json(merged_data_json, orient='records')"
   ]
  }
 ],
 "metadata": {
  "kernelspec": {
   "display_name": "Python 3",
   "language": "python",
   "name": "python3"
  },
  "language_info": {
   "codemirror_mode": {
    "name": "ipython",
    "version": 3
   },
   "file_extension": ".py",
   "mimetype": "text/x-python",
   "name": "python",
   "nbconvert_exporter": "python",
   "pygments_lexer": "ipython3",
   "version": "3.7.7"
  }
 },
 "nbformat": 4,
 "nbformat_minor": 4
}
