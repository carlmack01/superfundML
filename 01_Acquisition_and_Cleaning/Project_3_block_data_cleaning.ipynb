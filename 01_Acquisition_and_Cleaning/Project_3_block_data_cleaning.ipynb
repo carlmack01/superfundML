{
 "cells": [
  {
   "cell_type": "markdown",
   "metadata": {},
   "source": [
    "# Data Cleaning for Project 3: Block Group Data"
   ]
  },
  {
   "cell_type": "markdown",
   "metadata": {},
   "source": [
    "## Setup"
   ]
  },
  {
   "cell_type": "markdown",
   "metadata": {},
   "source": [
    "### Import Libraries"
   ]
  },
  {
   "cell_type": "code",
   "execution_count": 1,
   "metadata": {},
   "outputs": [],
   "source": [
    "import pandas as pd\n",
    "import os"
   ]
  },
  {
   "cell_type": "markdown",
   "metadata": {},
   "source": [
    "### Set File Locations"
   ]
  },
  {
   "cell_type": "code",
   "execution_count": 2,
   "metadata": {},
   "outputs": [],
   "source": [
    "# note that some of the raw data files are very large\n",
    "# these very large files are located in a gitignored directory.\n",
    "\n",
    "# raw data files\n",
    "raw_data_file = \"../00_Data/raw_data/pdb_block_group.csv\"\n",
    "\n",
    "# clean data files\n",
    "cleaned_data_csv = \"../00_Data/cleaned_data/cleaned_pdb_block_group.csv\"\n",
    "cleaned_data_json = \"../00_Data/cleaned_data/cleaned_pdb_block_group.json\""
   ]
  },
  {
   "cell_type": "markdown",
   "metadata": {},
   "source": [
    "## Exploring the Dataset"
   ]
  },
  {
   "cell_type": "markdown",
   "metadata": {},
   "source": [
    "### Bring in the block group data"
   ]
  },
  {
   "cell_type": "code",
   "execution_count": 3,
   "metadata": {},
   "outputs": [],
   "source": [
    "data_df = pd.read_csv(raw_data_file)"
   ]
  },
  {
   "cell_type": "markdown",
   "metadata": {},
   "source": [
    "### Take a look at the block group data\n",
    "Some things to note here:\n",
    "1. There are 220354 records and 345 columns.\n",
    "2. There are plenty of nulls about.\n",
    "3. There are no nulls for 'has_superfund', which is our outcome of interest.\n",
    "4. Financial values, e.g. 'Med_House_Value_BG_ACS_09_13', are stored as strings."
   ]
  },
  {
   "cell_type": "code",
   "execution_count": 4,
   "metadata": {},
   "outputs": [
    {
     "name": "stdout",
     "output_type": "stream",
     "text": [
      "<class 'pandas.core.frame.DataFrame'>\n",
      "RangeIndex: 220354 entries, 0 to 220353\n",
      "Data columns (total 345 columns):\n",
      " #   Column                            Non-Null Count   Dtype  \n",
      "---  ------                            --------------   -----  \n",
      " 0   FIPS_Block_Group                  220354 non-null  int64  \n",
      " 1   State                             220354 non-null  int64  \n",
      " 2   State_name                        220354 non-null  object \n",
      " 3   County                            220354 non-null  int64  \n",
      " 4   County_name                       220354 non-null  object \n",
      " 5   Tract                             220354 non-null  int64  \n",
      " 6   Block_Group                       220354 non-null  int64  \n",
      " 7   Flag                              600 non-null     float64\n",
      " 8   LAND_AREA                         220334 non-null  float64\n",
      " 9   AIAN_LAND                         220334 non-null  float64\n",
      " 10  URBANIZED_AREA_POP_CEN_2010       220334 non-null  float64\n",
      " 11  URBAN_CLUSTER_POP_CEN_2010        220334 non-null  float64\n",
      " 12  RURAL_POP_CEN_2010                220334 non-null  float64\n",
      " 13  Tot_Population_CEN_2010           220334 non-null  float64\n",
      " 14  Tot_Population_ACS_09_13          220333 non-null  float64\n",
      " 15  Tot_Population_ACSMOE_09_13       220333 non-null  float64\n",
      " 16  Males_CEN_2010                    220334 non-null  float64\n",
      " 17  Males_ACS_09_13                   220333 non-null  float64\n",
      " 18  Males_ACSMOE_09_13                220333 non-null  float64\n",
      " 19  Females_CEN_2010                  220334 non-null  float64\n",
      " 20  Females_ACS_09_13                 220333 non-null  float64\n",
      " 21  Females_ACSMOE_09_13              220333 non-null  float64\n",
      " 22  Pop_under_5_CEN_2010              220334 non-null  float64\n",
      " 23  Pop_under_5_ACS_09_13             220333 non-null  float64\n",
      " 24  Pop_under_5_ACSMOE_09_13          220333 non-null  float64\n",
      " 25  Pop_5_17_CEN_2010                 220334 non-null  float64\n",
      " 26  Pop_5_17_ACS_09_13                220333 non-null  float64\n",
      " 27  Pop_5_17_ACSMOE_09_13             220333 non-null  float64\n",
      " 28  Pop_18_24_CEN_2010                220334 non-null  float64\n",
      " 29  Pop_18_24_ACS_09_13               220333 non-null  float64\n",
      " 30  Pop_18_24_ACSMOE_09_13            220333 non-null  float64\n",
      " 31  Pop_25_44_CEN_2010                220334 non-null  float64\n",
      " 32  Pop_25_44_ACS_09_13               220333 non-null  float64\n",
      " 33  Pop_25_44_ACSMOE_09_13            220333 non-null  float64\n",
      " 34  Pop_45_64_CEN_2010                220334 non-null  float64\n",
      " 35  Pop_45_64_ACS_09_13               220333 non-null  float64\n",
      " 36  Pop_45_64_ACSMOE_09_13            220333 non-null  float64\n",
      " 37  Pop_65plus_CEN_2010               220334 non-null  float64\n",
      " 38  Pop_65plus_ACS_09_13              220333 non-null  float64\n",
      " 39  Pop_65plus_ACSMOE_09_13           220333 non-null  float64\n",
      " 40  Tot_GQ_CEN_2010                   220334 non-null  float64\n",
      " 41  Inst_GQ_CEN_2010                  220334 non-null  float64\n",
      " 42  Non_Inst_GQ_CEN_2010              220334 non-null  float64\n",
      " 43  Hispanic_CEN_2010                 220334 non-null  float64\n",
      " 44  Hispanic_ACS_09_13                220333 non-null  float64\n",
      " 45  Hispanic_ACSMOE_09_13             220333 non-null  float64\n",
      " 46  NH_White_alone_CEN_2010           220334 non-null  float64\n",
      " 47  NH_White_alone_ACS_09_13          220333 non-null  float64\n",
      " 48  NH_White_alone_ACSMOE_09_13       220333 non-null  float64\n",
      " 49  NH_Blk_alone_CEN_2010             220334 non-null  float64\n",
      " 50  NH_Blk_alone_ACS_09_13            220333 non-null  float64\n",
      " 51  NH_Blk_alone_ACSMOE_09_13         220333 non-null  float64\n",
      " 52  NH_AIAN_alone_CEN_2010            220334 non-null  float64\n",
      " 53  NH_AIAN_alone_ACS_09_13           220333 non-null  float64\n",
      " 54  NH_AIAN_alone_ACSMOE_09_13        220333 non-null  float64\n",
      " 55  NH_Asian_alone_CEN_2010           220334 non-null  float64\n",
      " 56  NH_Asian_alone_ACS_09_13          220333 non-null  float64\n",
      " 57  NH_Asian_alone_ACSMOE_09_13       220333 non-null  float64\n",
      " 58  NH_NHOPI_alone_CEN_2010           220334 non-null  float64\n",
      " 59  NH_NHOPI_alone_ACS_09_13          220333 non-null  float64\n",
      " 60  NH_NHOPI_alone_ACSMOE_09_13       220333 non-null  float64\n",
      " 61  NH_SOR_alone_CEN_2010             220334 non-null  float64\n",
      " 62  NH_SOR_alone_ACS_09_13            220333 non-null  float64\n",
      " 63  NH_SOR_alone_ACSMOE_09_13         220333 non-null  float64\n",
      " 64  Pop_5yrs_Over_ACS_09_13           220333 non-null  float64\n",
      " 65  Pop_5yrs_Over_ACSMOE_09_13        220333 non-null  float64\n",
      " 66  Othr_Lang_ACS_09_13               220333 non-null  float64\n",
      " 67  Othr_Lang_ACSMOE_09_13            220333 non-null  float64\n",
      " 68  Pop_25yrs_Over_ACS_09_13          220333 non-null  float64\n",
      " 69  Pop_25yrs_Over_ACSMOE_09_13       220333 non-null  float64\n",
      " 70  Not_HS_Grad_ACS_09_13             220333 non-null  float64\n",
      " 71  Not_HS_Grad_ACSMOE_09_13          220333 non-null  float64\n",
      " 72  College_ACS_09_13                 220333 non-null  float64\n",
      " 73  College_ACSMOE_09_13              220333 non-null  float64\n",
      " 74  Pov_Univ_ACS_09_13                220333 non-null  float64\n",
      " 75  Pov_Univ_ACSMOE_09_13             220333 non-null  float64\n",
      " 76  Prs_Blw_Pov_Lev_ACS_09_13         220333 non-null  float64\n",
      " 77  Prs_Blw_Pov_Lev_ACSMOE_09_13      220333 non-null  float64\n",
      " 78  One_Health_Ins_ACS_09_13          220333 non-null  float64\n",
      " 79  One_Health_Ins_ACSMOE_09_13       220333 non-null  float64\n",
      " 80  Two_Plus_Health_Ins_ACS_09_13     220333 non-null  float64\n",
      " 81  Two_Plus_Health_Ins_ACSMOE_09_13  220333 non-null  float64\n",
      " 82  No_Health_Ins_ACS_09_13           220333 non-null  float64\n",
      " 83  No_Health_Ins_ACSMOE_09_13        220333 non-null  float64\n",
      " 84  Pop_1yr_Over_ACS_09_13            220333 non-null  float64\n",
      " 85  Pop_1yr_Over_ACSMOE_09_13         220333 non-null  float64\n",
      " 86  Diff_HU_1yr_Ago_ACS_09_13         220333 non-null  float64\n",
      " 87  Diff_HU_1yr_Ago_ACSMOE_09_13      220333 non-null  float64\n",
      " 88  ENG_VW_SPAN_ACS_09_13             220333 non-null  float64\n",
      " 89  ENG_VW_SPAN_ACSMOE_09_13          220333 non-null  float64\n",
      " 90  ENG_VW_INDO_EURO_ACS_09_13        220333 non-null  float64\n",
      " 91  ENG_VW_INDO_EURO_ACSMOE_09_13     220333 non-null  float64\n",
      " 92  ENG_VW_API_ACS_09_13              220333 non-null  float64\n",
      " 93  ENG_VW_API_ACSMOE_09_13           220333 non-null  float64\n",
      " 94  ENG_VW_OTHER_ACS_09_13            220333 non-null  float64\n",
      " 95  ENG_VW_OTHER_ACSMOE_09_13         220333 non-null  float64\n",
      " 96  ENG_VW_ACS_09_13                  220333 non-null  float64\n",
      " 97  ENG_VW_ACSMOE_09_13               220333 non-null  float64\n",
      " 98  Rel_Family_HHDS_CEN_2010          220334 non-null  float64\n",
      " 99  Rel_Family_HHD_ACS_09_13          220333 non-null  float64\n",
      " 100 Rel_Family_HHD_ACSMOE_09_13       220333 non-null  float64\n",
      " 101 MrdCple_Fmly_HHD_CEN_2010         220334 non-null  float64\n",
      " 102 MrdCple_Fmly_HHD_ACS_09_13        220333 non-null  float64\n",
      " 103 MrdCple_Fmly_HHD_ACSMOE_09_13     220333 non-null  float64\n",
      " 104 Not_MrdCple_HHD_CEN_2010          220334 non-null  float64\n",
      " 105 Not_MrdCple_HHD_ACS_09_13         220333 non-null  float64\n",
      " 106 Not_MrdCple_HHD_ACSMOE_09_13      220333 non-null  float64\n",
      " 107 Female_No_HB_CEN_2010             220334 non-null  float64\n",
      " 108 Female_No_HB_ACS_09_13            220333 non-null  float64\n",
      " 109 Female_No_HB_ACSMOE_09_13         220333 non-null  float64\n",
      " 110 NonFamily_HHD_CEN_2010            220334 non-null  float64\n",
      " 111 NonFamily_HHD_ACS_09_13           220333 non-null  float64\n",
      " 112 NonFamily_HHD_ACSMOE_09_13        220333 non-null  float64\n",
      " 113 Sngl_Prns_HHD_CEN_2010            220334 non-null  float64\n",
      " 114 Sngl_Prns_HHD_ACS_09_13           220333 non-null  float64\n",
      " 115 Sngl_Prns_HHD_ACSMOE_09_13        220333 non-null  float64\n",
      " 116 HHD_PPL_Und_18_CEN_2010           220334 non-null  float64\n",
      " 117 HHD_PPL_Und_18_ACS_09_13          220333 non-null  float64\n",
      " 118 HHD_PPL_Und_18_ACSMOE_09_13       220333 non-null  float64\n",
      " 119 Tot_Prns_in_HHD_CEN_2010          220334 non-null  float64\n",
      " 120 Tot_Prns_in_HHD_ACS_09_13         220333 non-null  float64\n",
      " 121 Tot_Prns_in_HHD_ACSMOE_09_13      220333 non-null  float64\n",
      " 122 Rel_Child_Under_6_CEN_2010        220334 non-null  float64\n",
      " 123 Rel_Child_Under_6_ACS_09_13       220333 non-null  float64\n",
      " 124 Rel_Child_Under_6_ACSMOE_09_13    220333 non-null  float64\n",
      " 125 HHD_Moved_in_ACS_09_13            220333 non-null  float64\n",
      " 126 HHD_Moved_in_ACSMOE_09_13         220333 non-null  float64\n",
      " 127 PUB_ASST_INC_ACS_09_13            220333 non-null  float64\n",
      " 128 PUB_ASST_INC_ACSMOE_09_13         220333 non-null  float64\n",
      " 129 Med_HHD_Inc_BG_ACS_09_13          218450 non-null  object \n",
      " 130 Med_HHD_Inc_BG_ACSMOE_09_13       218140 non-null  object \n",
      " 131 Med_HHD_Inc_TR_ACS_09_13          219283 non-null  object \n",
      " 132 Med_HHD_Inc_TR_ACSMOE_09_13       219193 non-null  object \n",
      " 133 Aggregate_HH_INC_ACS_09_13        218450 non-null  object \n",
      " 134 Aggregate_HH_INC_ACSMOE_09_13     218450 non-null  object \n",
      " 135 Tot_Housing_Units_CEN_2010        220334 non-null  float64\n",
      " 136 Tot_Housing_Units_ACS_09_13       220333 non-null  float64\n",
      " 137 Tot_Housing_Units_ACSMOE_09_13    220333 non-null  float64\n",
      " 138 Tot_Occp_Units_CEN_2010           220334 non-null  float64\n",
      " 139 Tot_Occp_Units_ACS_09_13          220333 non-null  float64\n",
      " 140 Tot_Occp_Units_ACSMOE_09_13       220333 non-null  float64\n",
      " 141 Tot_Vacant_Units_CEN_2010         220334 non-null  float64\n",
      " 142 Tot_Vacant_Units_ACS_09_13        220333 non-null  float64\n",
      " 143 Tot_Vacant_Units_ACSMOE_09_13     220333 non-null  float64\n",
      " 144 Renter_Occp_HU_CEN_2010           220334 non-null  float64\n",
      " 145 Renter_Occp_HU_ACS_09_13          220333 non-null  float64\n",
      " 146 Renter_Occp_HU_ACSMOE_09_13       220333 non-null  float64\n",
      " 147 Owner_Occp_HU_CEN_2010            220334 non-null  float64\n",
      " 148 Owner_Occp_HU_ACS_09_13           220333 non-null  float64\n",
      " 149 Owner_Occp_HU_ACSMOE_09_13        220333 non-null  float64\n",
      " 150 Single_Unit_ACS_09_13             220333 non-null  float64\n",
      " 151 Single_Unit_ACSMOE_09_13          220333 non-null  float64\n",
      " 152 MLT_U2_9_STRC_ACS_09_13           220333 non-null  float64\n",
      " 153 MLT_U2_9_STRC_ACSMOE_09_13        220333 non-null  float64\n",
      " 154 MLT_U10p_ACS_09_13                220333 non-null  float64\n",
      " 155 MLT_U10p_ACSMOE_09_13             220333 non-null  float64\n",
      " 156 Mobile_Homes_ACS_09_13            220333 non-null  float64\n",
      " 157 Mobile_Homes_ACSMOE_09_13         220333 non-null  float64\n",
      " 158 Crowd_Occp_U_ACS_09_13            220333 non-null  float64\n",
      " 159 Crowd_Occp_U_ACSMOE_09_13         220333 non-null  float64\n",
      " 160 Occp_U_NO_PH_SRVC_ACS_09_13       220333 non-null  float64\n",
      " 161 Occp_U_NO_PH_SRVC_ACSMOE_09_13    220333 non-null  float64\n",
      " 162 No_Plumb_ACS_09_13                217739 non-null  float64\n",
      " 163 No_Plumb_ACSMOE_09_13             217739 non-null  float64\n",
      " 164 Recent_Built_HU_ACS_09_13         220333 non-null  float64\n",
      " 165 Recent_Built_HU_ACSMOE_09_13      220333 non-null  float64\n",
      " 166 Med_House_Value_BG_ACS_09_13      211497 non-null  object \n",
      " 167 Med_House_Value_BG_ACSMOE_09_13   209383 non-null  object \n",
      " 168 Med_house_value_TR_ACS_09_13      217682 non-null  object \n",
      " 169 Med_house_value_TR_ACSMOE_09_13   215900 non-null  object \n",
      " 170 Aggr_House_Value_ACS_09_13        190593 non-null  object \n",
      " 171 Aggr_House_Value_ACSMOE_09_13     190593 non-null  object \n",
      " 172 MailBack_Area_Count_CEN_2010      219754 non-null  float64\n",
      " 173 TEA_Mail_Out_Mail_Back_CEN_2010   219754 non-null  float64\n",
      " 174 TEA_Update_Leave_CEN_2010         219754 non-null  float64\n",
      " 175 Census_Mail_Returns_CEN_2010      219754 non-null  float64\n",
      " 176 Vacants_CEN_2010                  219754 non-null  float64\n",
      " 177 Deletes_CEN_2010                  219754 non-null  float64\n",
      " 178 Census_UAA_CEN_2010               219754 non-null  float64\n",
      " 179 Valid_Mailback_Count_CEN_2010     219754 non-null  float64\n",
      " 180 FRST_FRMS_CEN_2010                219754 non-null  float64\n",
      " 181 RPLCMNT_FRMS_CEN_2010             219754 non-null  float64\n",
      " 182 BILQ_Mailout_count_CEN_2010       219754 non-null  float64\n",
      " 183 BILQ_Frms_CEN_2010                219754 non-null  float64\n",
      " 184 Mail_Return_Rate_CEN_2010         217443 non-null  float64\n",
      " 185 Low_Response_Score                216598 non-null  float64\n",
      " 186 pct_URBANIZED_AREA_POP_CEN_2010   219404 non-null  float64\n",
      " 187 pct_URBAN_CLUSTER_POP_CEN_2010    219404 non-null  float64\n",
      " 188 pct_RURAL_POP_CEN_2010            219404 non-null  float64\n",
      " 189 pct_Males_CEN_2010                219404 non-null  float64\n",
      " 190 pct_Males_ACS_09_13               219255 non-null  float64\n",
      " 191 pct_Males_ACSMOE_09_13            219255 non-null  float64\n",
      " 192 pct_Females_CEN_2010              219404 non-null  float64\n",
      " 193 pct_Females_ACS_09_13             219255 non-null  float64\n",
      " 194 pct_Females_ACSMOE_09_13          219255 non-null  float64\n",
      " 195 pct_Pop_Under_5_CEN_2010          219404 non-null  float64\n",
      " 196 pct_Pop_Under_5_ACS_09_13         219255 non-null  float64\n",
      " 197 pct_Pop_Under_5_ACSMOE_09_13      219255 non-null  float64\n",
      " 198 pct_Pop_5_17_CEN_2010             219404 non-null  float64\n",
      " 199 pct_Pop_5_17_ACS_09_13            219255 non-null  float64\n",
      " 200 pct_Pop_5_17_ACSMOE_09_13         219255 non-null  float64\n",
      " 201 pct_Pop_18_24_CEN_2010            219404 non-null  float64\n",
      " 202 pct_Pop_18_24_ACS_09_13           219255 non-null  float64\n",
      " 203 pct_Pop_18_24_ACSMOE_09_13        219255 non-null  float64\n",
      " 204 pct_Pop_25_44_CEN_2010            219404 non-null  float64\n",
      " 205 pct_Pop_25_44_ACS_09_13           219255 non-null  float64\n",
      " 206 pct_Pop_25_44_ACSMOE_09_13        219255 non-null  float64\n",
      " 207 pct_Pop_45_64_CEN_2010            219404 non-null  float64\n",
      " 208 pct_Pop_45_64_ACS_09_13           219255 non-null  float64\n",
      " 209 pct_Pop_45_64_ACSMOE_09_13        219255 non-null  float64\n",
      " 210 pct_Pop_65plus_CEN_2010           219404 non-null  float64\n",
      " 211 pct_Pop_65plus_ACS_09_13          219255 non-null  float64\n",
      " 212 pct_Pop_65plus_ACSMOE_09_13       219255 non-null  float64\n",
      " 213 pct_Tot_GQ_CEN_2010               219404 non-null  float64\n",
      " 214 pct_Inst_GQ_CEN_2010              219404 non-null  float64\n",
      " 215 pct_Non_Inst_GQ_CEN_2010          219404 non-null  float64\n",
      " 216 pct_Hispanic_CEN_2010             219404 non-null  float64\n",
      " 217 pct_Hispanic_ACS_09_13            219255 non-null  float64\n",
      " 218 pct_Hispanic_ACSMOE_09_13         219255 non-null  float64\n",
      " 219 pct_NH_White_alone_CEN_2010       219404 non-null  float64\n",
      " 220 pct_NH_White_alone_ACS_09_13      219255 non-null  float64\n",
      " 221 pct_NH_White_alone_ACSMOE_09_13   219255 non-null  float64\n",
      " 222 pct_NH_Blk_alone_CEN_2010         219404 non-null  float64\n",
      " 223 pct_NH_Blk_alone_ACS_09_13        219255 non-null  float64\n",
      " 224 pct_NH_Blk_alone_ACSMOE_09_13     219255 non-null  float64\n",
      " 225 pct_NH_AIAN_alone_CEN_2010        219404 non-null  float64\n",
      " 226 pct_NH_AIAN_alone_ACS_09_13       219255 non-null  float64\n",
      " 227 pct_NH_AIAN_alone_ACSMOE_09_13    219255 non-null  float64\n",
      " 228 pct_NH_Asian_alone_CEN_2010       219404 non-null  float64\n",
      " 229 pct_NH_Asian_alone_ACS_09_13      219255 non-null  float64\n",
      " 230 pct_NH_Asian_alone_ACSMOE_09_13   219255 non-null  float64\n",
      " 231 pct_NH_NHOPI_alone_CEN_2010       219404 non-null  float64\n",
      " 232 pct_NH_NHOPI_alone_ACS_09_13      219255 non-null  float64\n",
      " 233 pct_NH_NHOPI_alone_ACSMOE_09_13   219255 non-null  float64\n",
      " 234 pct_NH_SOR_alone_CEN_2010         219404 non-null  float64\n",
      " 235 pct_NH_SOR_alone_ACS_09_13        219255 non-null  float64\n",
      " 236 pct_NH_SOR_alone_ACSMOE_09_13     219255 non-null  float64\n",
      " 237 pct_Pop_5yrs_Over_ACS_09_13       219255 non-null  float64\n",
      " 238 pct_Pop_5yrs_Over_ACSMOE_09_13    219255 non-null  float64\n",
      " 239 pct_Othr_Lang_ACS_09_13           219255 non-null  float64\n",
      " 240 pct_Othr_Lang_ACSMOE_09_13        219255 non-null  float64\n",
      " 241 pct_Pop_25yrs_Over_ACS_09_13      219255 non-null  float64\n",
      " 242 pct_Pop_25yrs_Over_ACSMOE_09_13   219255 non-null  float64\n",
      " 243 pct_Not_HS_Grad_ACS_09_13         219214 non-null  float64\n",
      " 244 pct_Not_HS_Grad_ACSMOE_09_13      219214 non-null  float64\n",
      " 245 pct_College_ACS_09_13             219214 non-null  float64\n",
      " 246 pct_College_ACSMOE_09_13          219214 non-null  float64\n",
      " 247 pct_Prs_Blw_Pov_Lev_ACS_09_13     218889 non-null  float64\n",
      " 248 pct_Prs_Blw_Pov_Lev_ACSMOE_09_13  218889 non-null  float64\n",
      " 249 pct_One_Health_Ins_ACS_09_13      219255 non-null  float64\n",
      " 250 pct_One_Health_Ins_ACSMOE_09_13   219255 non-null  float64\n",
      " 251 pct_TwoPHealth_Ins_ACS_09_13      219255 non-null  float64\n",
      " 252 pct_TwoPHealthIns_ACSMOE_09_13    219255 non-null  float64\n",
      " 253 pct_No_Health_Ins_ACS_09_13       219255 non-null  float64\n",
      " 254 pct_No_Health_Ins_ACSMOE_09_13    219255 non-null  float64\n",
      " 255 pct_Pov_Univ_ACS_09_13            219255 non-null  float64\n",
      " 256 pct_Pov_Univ_ACSMOE_09_13         219255 non-null  float64\n",
      " 257 pct_Pop_1yr_Over_ACS_09_13        219255 non-null  float64\n",
      " 258 pct_Pop_1yr_Over_ACSMOE_09_13     219255 non-null  float64\n",
      " 259 pct_Diff_HU_1yr_Ago_ACS_09_13     216723 non-null  float64\n",
      " 260 pct_Diff_HU_1yr_Ago_ACSMOE_09_13  216723 non-null  float64\n",
      " 261 pct_ENG_VW_SPAN_ACS_09_13         218790 non-null  float64\n",
      " 262 pct_ENG_VW_SPAN_ACSMOE_09_13      218790 non-null  float64\n",
      " 263 pct_ENG_VW_INDOEURO_ACS_09_13     218790 non-null  float64\n",
      " 264 pct_ENG_VW_INDOEURO_ACSMOE_09_13  218790 non-null  float64\n",
      " 265 pct_ENG_VW_API_ACS_09_13          218790 non-null  float64\n",
      " 266 pct_ENG_VW_API_ACSMOE_09_13       218790 non-null  float64\n",
      " 267 pct_ENG_VW_OTHER_ACS_09_13        218790 non-null  float64\n",
      " 268 pct_ENG_VW_OTHER_ACSMOE_09_13     218790 non-null  float64\n",
      " 269 pct_ENG_VW_ACS_09_13              218790 non-null  float64\n",
      " 270 pct_ENG_VW_ACSMOE_09_13           218790 non-null  float64\n",
      " 271 pct_Rel_Family_HHDS_CEN_2010      219138 non-null  float64\n",
      " 272 pct_Rel_Family_HHD_ACS_09_13      218790 non-null  float64\n",
      " 273 pct_Rel_Family_HHD_ACSMOE_09_13   218790 non-null  float64\n",
      " 274 pct_MrdCple_HHD_CEN_2010          219138 non-null  float64\n",
      " 275 pct_MrdCple_HHD_ACS_09_13         218790 non-null  float64\n",
      " 276 pct_MrdCple_HHD_ACSMOE_09_13      218790 non-null  float64\n",
      " 277 pct_Not_MrdCple_HHD_CEN_2010      219138 non-null  float64\n",
      " 278 pct_Not_MrdCple_HHD_ACS_09_13     218790 non-null  float64\n",
      " 279 pct_Not_MrdCple_HHD_ACSMOE_09_13  218790 non-null  float64\n",
      " 280 pct_Female_No_HB_CEN_2010         219138 non-null  float64\n",
      " 281 pct_Female_No_HB_ACS_09_13        218790 non-null  float64\n",
      " 282 pct_Female_No_HB_ACSMOE_09_13     218790 non-null  float64\n",
      " 283 pct_NonFamily_HHD_CEN_2010        219138 non-null  float64\n",
      " 284 pct_NonFamily_HHD_ACS_09_13       218790 non-null  float64\n",
      " 285 pct_NonFamily_HHD_ACSMOE_09_13    218790 non-null  float64\n",
      " 286 pct_Sngl_Prns_HHD_CEN_2010        219138 non-null  float64\n",
      " 287 pct_Sngl_Prns_HHD_ACS_09_13       218790 non-null  float64\n",
      " 288 pct_Sngl_Prns_HHD_ACSMOE_09_13    218790 non-null  float64\n",
      " 289 pct_HHD_PPL_Und_18_CEN_2010       219138 non-null  float64\n",
      " 290 pct_HHD_PPL_Und_18_ACS_09_13      218790 non-null  float64\n",
      " 291 pct_HHD_PPL_Und_18_ACSMOE_09_13   218790 non-null  float64\n",
      " 292 avg_Tot_Prns_in_HHD_CEN_2010      219138 non-null  float64\n",
      " 293 avg_Tot_Prns_in_HHD_ACS_09_13     218790 non-null  float64\n",
      " 294 avg_Tot_Prns_in_HHD_ACSMOE_09_13  218790 non-null  float64\n",
      " 295 pct_Rel_Under_6_CEN_2010          219016 non-null  float64\n",
      " 296 pct_Rel_Under_6_ACS_09_13         218586 non-null  float64\n",
      " 297 pct_Rel_Under_6_ACSMOE_09_13      218586 non-null  float64\n",
      " 298 pct_HHD_Moved_in_ACS_09_13        218790 non-null  float64\n",
      " 299 pct_HHD_Moved_in_ACSMOE_09_13     218790 non-null  float64\n",
      " 300 pct_PUB_ASST_INC_ACS_09_13        218790 non-null  float64\n",
      " 301 pct_PUB_ASST_INC_ACSMOE_09_13     218790 non-null  float64\n",
      " 302 avg_Agg_HH_INC_ACS_09_13          218450 non-null  object \n",
      " 303 avg_Agg_HH_INC_ACSMOE_09_13       218450 non-null  object \n",
      " 304 pct_Tot_Occp_Units_CEN_2010       219183 non-null  float64\n",
      " 305 pct_Tot_Occp_Units_ACS_09_13      218835 non-null  float64\n",
      " 306 pct_Tot_Occp_Units_ACSMOE_09_13   218835 non-null  float64\n",
      " 307 pct_Vacant_Units_CEN_2010         219183 non-null  float64\n",
      " 308 pct_Vacant_Units_ACS_09_13        218835 non-null  float64\n",
      " 309 pct_Vacant_Units_ACSMOE_09_13     218835 non-null  float64\n",
      " 310 pct_Renter_Occp_HU_CEN_2010       219138 non-null  float64\n",
      " 311 pct_Renter_Occp_HU_ACS_09_13      218790 non-null  float64\n",
      " 312 pct_Renter_Occp_HU_ACSMOE_09_13   218790 non-null  float64\n",
      " 313 pct_Owner_Occp_HU_CEN_2010        219138 non-null  float64\n",
      " 314 pct_Owner_Occp_HU_ACS_09_13       218790 non-null  float64\n",
      " 315 pct_Owner_Occp_HU_ACSMOE_09_13    218790 non-null  float64\n",
      " 316 pct_Single_Unit_ACS_09_13         218835 non-null  float64\n",
      " 317 pct_Single_Unit_ACSMOE_09_13      218835 non-null  float64\n",
      " 318 pct_MLT_U2_9_STRC_ACS_09_13       218835 non-null  float64\n",
      " 319 pct_MLT_U2_9_STRC_ACSMOE_09_13    218835 non-null  float64\n",
      " 320 pct_MLT_U10p_ACS_09_13            218835 non-null  float64\n",
      " 321 pct_MLT_U10p_ACSMOE_09_13         218835 non-null  float64\n",
      " 322 pct_Mobile_Homes_ACS_09_13        218835 non-null  float64\n",
      " 323 pct_Mobile_Homes_ACSMOE_09_13     218835 non-null  float64\n",
      " 324 pct_Crowd_Occp_U_ACS_09_13        218790 non-null  float64\n",
      " 325 pct_Crowd_Occp_U_ACSMOE_09_13     218790 non-null  float64\n",
      " 326 pct_NO_PH_SRVC_ACS_09_13          218790 non-null  float64\n",
      " 327 pct_NO_PH_SRVC_ACSMOE_09_13       218790 non-null  float64\n",
      " 328 pct_No_Plumb_ACS_09_13            216301 non-null  float64\n",
      " 329 pct_No_Plumb_ACSMOE_09_13         216301 non-null  float64\n",
      " 330 pct_Recent_Built_HU_ACS_09_13     218835 non-null  float64\n",
      " 331 pct_Recent_Built_HU_ACSMOE_09_13  218835 non-null  float64\n",
      " 332 avg_Agg_House_Value_ACS_09_13     190593 non-null  object \n",
      " 333 avg_Agg_House_Value_ACSMOE_09_13  190593 non-null  object \n",
      " 334 pct_TEA_MailOutMailBack_CEN_2010  217612 non-null  float64\n",
      " 335 pct_TEA_Update_Leave_CEN_2010     217612 non-null  float64\n",
      " 336 pct_Census_Mail_Returns_CEN_2010  217612 non-null  float64\n",
      " 337 pct_Vacant_CEN_2010               217612 non-null  float64\n",
      " 338 pct_Deletes_CEN_2010              217612 non-null  float64\n",
      " 339 pct_Census_UAA_CEN_2010           217612 non-null  float64\n",
      " 340 pct_Mailback_Count_CEN_2010       217612 non-null  float64\n",
      " 341 pct_FRST_FRMS_CEN_2010            217612 non-null  float64\n",
      " 342 pct_RPLCMNT_FRMS_CEN_2010         217612 non-null  float64\n",
      " 343 pct_BILQ_Mailout_count_CEN_2010   217612 non-null  float64\n",
      " 344 has_superfund                     220354 non-null  int64  \n",
      "dtypes: float64(321), int64(6), object(18)\n",
      "memory usage: 580.0+ MB\n"
     ]
    }
   ],
   "source": [
    "data_df.info(verbose = True, null_counts = True)"
   ]
  },
  {
   "cell_type": "markdown",
   "metadata": {},
   "source": [
    "### Reformat financial data"
   ]
  },
  {
   "cell_type": "code",
   "execution_count": 5,
   "metadata": {},
   "outputs": [
    {
     "data": {
      "text/plain": [
       "0     $25,895,000\n",
       "1     $54,637,000\n",
       "2     $61,012,600\n",
       "3     $30,169,400\n",
       "4    $104,252,000\n",
       "Name: Aggr_House_Value_ACS_09_13, dtype: object"
      ]
     },
     "execution_count": 5,
     "metadata": {},
     "output_type": "execute_result"
    }
   ],
   "source": [
    "# take a peek at the financial data stored as strings to see what kind of fromatting we're dealing with.\n",
    "data_df['Aggr_House_Value_ACS_09_13'].head()"
   ]
  },
  {
   "cell_type": "code",
   "execution_count": 6,
   "metadata": {},
   "outputs": [
    {
     "data": {
      "text/plain": [
       "['State_name',\n",
       " 'County_name',\n",
       " 'Med_HHD_Inc_BG_ACS_09_13',\n",
       " 'Med_HHD_Inc_BG_ACSMOE_09_13',\n",
       " 'Med_HHD_Inc_TR_ACS_09_13',\n",
       " 'Med_HHD_Inc_TR_ACSMOE_09_13',\n",
       " 'Aggregate_HH_INC_ACS_09_13',\n",
       " 'Aggregate_HH_INC_ACSMOE_09_13',\n",
       " 'Med_House_Value_BG_ACS_09_13',\n",
       " 'Med_House_Value_BG_ACSMOE_09_13',\n",
       " 'Med_house_value_TR_ACS_09_13',\n",
       " 'Med_house_value_TR_ACSMOE_09_13',\n",
       " 'Aggr_House_Value_ACS_09_13',\n",
       " 'Aggr_House_Value_ACSMOE_09_13',\n",
       " 'avg_Agg_HH_INC_ACS_09_13',\n",
       " 'avg_Agg_HH_INC_ACSMOE_09_13',\n",
       " 'avg_Agg_House_Value_ACS_09_13',\n",
       " 'avg_Agg_House_Value_ACSMOE_09_13']"
      ]
     },
     "execution_count": 6,
     "metadata": {},
     "output_type": "execute_result"
    }
   ],
   "source": [
    "# make a list of the financial format columns\n",
    "# grab all the columns with 'object' dtype\n",
    "string_columns = list(data_df.select_dtypes(include=['object']).columns)\n",
    "string_columns"
   ]
  },
  {
   "cell_type": "code",
   "execution_count": 7,
   "metadata": {},
   "outputs": [],
   "source": [
    "# leave off the first two entries ('State_name' and 'County_name') since we don't need to reformat those\n",
    "financial_columns = string_columns[2:]"
   ]
  },
  {
   "cell_type": "code",
   "execution_count": 8,
   "metadata": {},
   "outputs": [],
   "source": [
    "# Loop through and reformat the columns by taking out the '$' and ',', and then changing the dtype to 'float'.\n",
    "# This can take a minute or two.\n",
    "for x in financial_columns:\n",
    "    data_df[[x]] = (data_df[x].replace( '[\\$,)]','', regex=True )\n",
    "                     .replace( '[(]','-',   regex=True ).astype(float))"
   ]
  },
  {
   "cell_type": "code",
   "execution_count": 9,
   "metadata": {},
   "outputs": [
    {
     "data": {
      "text/plain": [
       "0     25895000.0\n",
       "1     54637000.0\n",
       "2     61012600.0\n",
       "3     30169400.0\n",
       "4    104252000.0\n",
       "Name: Aggr_House_Value_ACS_09_13, dtype: float64"
      ]
     },
     "execution_count": 9,
     "metadata": {},
     "output_type": "execute_result"
    }
   ],
   "source": [
    "# Quick check to verify the format.\n",
    "data_df['Aggr_House_Value_ACS_09_13'].head()"
   ]
  },
  {
   "cell_type": "markdown",
   "metadata": {},
   "source": [
    "### Other Cleaning"
   ]
  },
  {
   "cell_type": "code",
   "execution_count": 10,
   "metadata": {},
   "outputs": [],
   "source": [
    "# convert the column names to lowercase to avoid problems later on.\n",
    "data_df.columns= data_df.columns.str.lower()\n",
    "# fill in nulls with zeros\n",
    "data_df.fillna(0, inplace = True)"
   ]
  },
  {
   "cell_type": "markdown",
   "metadata": {},
   "source": [
    "### Select Columns"
   ]
  },
  {
   "cell_type": "code",
   "execution_count": 11,
   "metadata": {},
   "outputs": [
    {
     "name": "stderr",
     "output_type": "stream",
     "text": [
      "C:\\Users\\jackc\\anaconda3\\envs\\PythonData\\lib\\site-packages\\ipykernel_launcher.py:38: SettingWithCopyWarning: \n",
      "A value is trying to be set on a copy of a slice from a DataFrame.\n",
      "Try using .loc[row_indexer,col_indexer] = value instead\n",
      "\n",
      "See the caveats in the documentation: https://pandas.pydata.org/pandas-docs/stable/user_guide/indexing.html#returning-a-view-versus-a-copy\n"
     ]
    }
   ],
   "source": [
    "# select columns we want to keep here\n",
    "# for now, proof-of-concept\n",
    "desired_columns = [x.lower() for x in [\n",
    "                \"FIPS_Block_Group\",\n",
    "                \"State_name\",\n",
    "                \"County_name\",\n",
    "                \"Tract\",\n",
    "                \"Block_Group\",\n",
    "                \"Tot_Population_CEN_2010\",\n",
    "                \"Hispanic_CEN_2010\",\n",
    "                \"NH_Blk_alone_CEN_2010\",\n",
    "                \"NH_AIAN_alone_CEN_2010\",\n",
    "                \"NH_Asian_alone_CEN_2010\",\n",
    "                \"NH_NHOPI_alone_CEN_2010\",\n",
    "                \"NH_SOR_alone_CEN_2010\",\n",
    "                \"College_ACS_09_13\",\n",
    "                \"No_Health_Ins_ACS_09_13\",\n",
    "                \"Med_HHD_Inc_BG_ACS_09_13\",\n",
    "                \"Aggregate_HH_INC_ACS_09_13\",\n",
    "                \"Tot_Vacant_Units_CEN_2010\",\n",
    "                \"Renter_Occp_HU_CEN_2010\",\n",
    "                \"Owner_Occp_HU_CEN_2010\",\n",
    "                \"No_Plumb_ACS_09_13\",\n",
    "                \"Med_House_Value_BG_ACS_09_13\",\n",
    "                \"pct_Hispanic_CEN_2010\",\n",
    "                \"pct_NH_Blk_alone_CEN_2010\",\n",
    "                \"pct_NH_AIAN_alone_CEN_2010\",\n",
    "                \"pct_NH_Asian_alone_CEN_2010\",\n",
    "                \"pct_NH_NHOPI_alone_CEN_2010\",\n",
    "                \"pct_NH_SOR_alone_CEN_2010\",\n",
    "                \"pct_Not_HS_Grad_ACS_09_13\",\n",
    "                \"pct_No_Health_Ins_ACS_09_13\",\n",
    "                \"pct_Vacant_Units_CEN_2010\",\n",
    "                \"pct_Renter_Occp_HU_CEN_2010\",\n",
    "                \"pct_Owner_Occp_HU_CEN_2010\",\n",
    "                \"pct_No_Plumb_ACS_09_13\"]]\n",
    "cleaned_data_df = data_df[desired_columns]\n",
    "cleaned_data_df['has_superfund'] = data_df['has_superfund']"
   ]
  },
  {
   "cell_type": "code",
   "execution_count": 12,
   "metadata": {},
   "outputs": [
    {
     "name": "stdout",
     "output_type": "stream",
     "text": [
      "<class 'pandas.core.frame.DataFrame'>\n",
      "RangeIndex: 220354 entries, 0 to 220353\n",
      "Data columns (total 34 columns):\n",
      " #   Column                        Non-Null Count   Dtype  \n",
      "---  ------                        --------------   -----  \n",
      " 0   fips_block_group              220354 non-null  int64  \n",
      " 1   state_name                    220354 non-null  object \n",
      " 2   county_name                   220354 non-null  object \n",
      " 3   tract                         220354 non-null  int64  \n",
      " 4   block_group                   220354 non-null  int64  \n",
      " 5   tot_population_cen_2010       220354 non-null  float64\n",
      " 6   hispanic_cen_2010             220354 non-null  float64\n",
      " 7   nh_blk_alone_cen_2010         220354 non-null  float64\n",
      " 8   nh_aian_alone_cen_2010        220354 non-null  float64\n",
      " 9   nh_asian_alone_cen_2010       220354 non-null  float64\n",
      " 10  nh_nhopi_alone_cen_2010       220354 non-null  float64\n",
      " 11  nh_sor_alone_cen_2010         220354 non-null  float64\n",
      " 12  college_acs_09_13             220354 non-null  float64\n",
      " 13  no_health_ins_acs_09_13       220354 non-null  float64\n",
      " 14  med_hhd_inc_bg_acs_09_13      220354 non-null  float64\n",
      " 15  aggregate_hh_inc_acs_09_13    220354 non-null  float64\n",
      " 16  tot_vacant_units_cen_2010     220354 non-null  float64\n",
      " 17  renter_occp_hu_cen_2010       220354 non-null  float64\n",
      " 18  owner_occp_hu_cen_2010        220354 non-null  float64\n",
      " 19  no_plumb_acs_09_13            220354 non-null  float64\n",
      " 20  med_house_value_bg_acs_09_13  220354 non-null  float64\n",
      " 21  pct_hispanic_cen_2010         220354 non-null  float64\n",
      " 22  pct_nh_blk_alone_cen_2010     220354 non-null  float64\n",
      " 23  pct_nh_aian_alone_cen_2010    220354 non-null  float64\n",
      " 24  pct_nh_asian_alone_cen_2010   220354 non-null  float64\n",
      " 25  pct_nh_nhopi_alone_cen_2010   220354 non-null  float64\n",
      " 26  pct_nh_sor_alone_cen_2010     220354 non-null  float64\n",
      " 27  pct_not_hs_grad_acs_09_13     220354 non-null  float64\n",
      " 28  pct_no_health_ins_acs_09_13   220354 non-null  float64\n",
      " 29  pct_vacant_units_cen_2010     220354 non-null  float64\n",
      " 30  pct_renter_occp_hu_cen_2010   220354 non-null  float64\n",
      " 31  pct_owner_occp_hu_cen_2010    220354 non-null  float64\n",
      " 32  pct_no_plumb_acs_09_13        220354 non-null  float64\n",
      " 33  has_superfund                 220354 non-null  int64  \n",
      "dtypes: float64(28), int64(4), object(2)\n",
      "memory usage: 57.2+ MB\n"
     ]
    }
   ],
   "source": [
    "# last check\n",
    "cleaned_data_df.info(verbose = True, null_counts = True)"
   ]
  },
  {
   "cell_type": "markdown",
   "metadata": {},
   "source": [
    "## Export"
   ]
  },
  {
   "cell_type": "code",
   "execution_count": 13,
   "metadata": {},
   "outputs": [],
   "source": [
    "# Export to csv\n",
    "cleaned_data_df.to_csv(cleaned_data_csv, index = False)"
   ]
  },
  {
   "cell_type": "code",
   "execution_count": 14,
   "metadata": {},
   "outputs": [],
   "source": [
    "# Export to flat json\n",
    "cleaned_data_df.to_json(cleaned_data_json, orient='records')"
   ]
  }
 ],
 "metadata": {
  "kernelspec": {
   "display_name": "Python 3",
   "language": "python",
   "name": "python3"
  },
  "language_info": {
   "codemirror_mode": {
    "name": "ipython",
    "version": 3
   },
   "file_extension": ".py",
   "mimetype": "text/x-python",
   "name": "python",
   "nbconvert_exporter": "python",
   "pygments_lexer": "ipython3",
   "version": "3.7.7"
  }
 },
 "nbformat": 4,
 "nbformat_minor": 4
}
